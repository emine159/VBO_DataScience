{
 "cells": [
  {
   "cell_type": "markdown",
   "id": "16ff4553",
   "metadata": {},
   "source": [
    "## Görev 5\n",
    "> Argüman olarak bir liste alan, listenin içerisindeki tek ve çift sayıları ayrı listelere atayan ve bu listeleri return eden fonksiyon yazınız."
   ]
  },
  {
   "cell_type": "code",
   "execution_count": 1,
   "id": "cf5c179b",
   "metadata": {},
   "outputs": [],
   "source": [
    "l = [2, 13, 18, 93, 22]"
   ]
  },
  {
   "cell_type": "markdown",
   "id": "f42a40b0",
   "metadata": {},
   "source": [
    "+ 1. Method"
   ]
  },
  {
   "cell_type": "code",
   "execution_count": 2,
   "id": "f5b059c2",
   "metadata": {},
   "outputs": [
    {
     "name": "stdout",
     "output_type": "stream",
     "text": [
      "Çift sayılar : [2, 18, 22] Tek sayılar : [13, 93]\n"
     ]
    }
   ],
   "source": [
    "def list_index(list):\n",
    "    A = []\n",
    "    B = []\n",
    "    for i in list:\n",
    "        if i % 2 == 0:\n",
    "            A.append(i)\n",
    "        else:\n",
    "            B.append(i)\n",
    "    print(\"Çift sayılar : {} Tek sayılar : {}\".format(A, B))\n",
    "\n",
    "\n",
    "list_index(l)"
   ]
  },
  {
   "cell_type": "markdown",
   "id": "c75baa40",
   "metadata": {},
   "source": [
    "+ 2. Method"
   ]
  },
  {
   "cell_type": "code",
   "execution_count": 3,
   "id": "6de4eebd",
   "metadata": {},
   "outputs": [
    {
     "name": "stdout",
     "output_type": "stream",
     "text": [
      "[2, 18, 22] [13, 93]\n"
     ]
    }
   ],
   "source": [
    "def func_tek_cift(list_):\n",
    "    tek = list()\n",
    "    cift = list()\n",
    "    for i in list_:\n",
    "        if i % 2 == 0:\n",
    "            cift.append(i)\n",
    "        else:\n",
    "            tek.append(i)\n",
    "    return cift, tek\n",
    "\n",
    "\n",
    "cift_degerler, tek_degerler = func_tek_cift(l)\n",
    "print(cift_degerler, tek_degerler)"
   ]
  }
 ],
 "metadata": {
  "kernelspec": {
   "display_name": "Python 3 (ipykernel)",
   "language": "python",
   "name": "python3"
  },
  "language_info": {
   "codemirror_mode": {
    "name": "ipython",
    "version": 3
   },
   "file_extension": ".py",
   "mimetype": "text/x-python",
   "name": "python",
   "nbconvert_exporter": "python",
   "pygments_lexer": "ipython3",
   "version": "3.9.12"
  }
 },
 "nbformat": 4,
 "nbformat_minor": 5
}
