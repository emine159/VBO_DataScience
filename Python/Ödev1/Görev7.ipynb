{
 "cells": [
  {
   "cell_type": "markdown",
   "id": "6741cd78",
   "metadata": {},
   "source": [
    "## Görev 7 \n",
    "> Aşağıda 3 adet liste verilmiştir. Listelerde sırası ile bir dersin kodu, kredisi ve kontenjan bilgileri yer almaktadır. Zip kullanarak ders bilgilerini bastırınız."
   ]
  },
  {
   "cell_type": "code",
   "execution_count": 7,
   "id": "a1357176",
   "metadata": {},
   "outputs": [],
   "source": [
    "ders_kodu = ['CMP1005', 'PSY1001', 'HUK1005', 'SEN2204']"
   ]
  },
  {
   "cell_type": "code",
   "execution_count": 8,
   "id": "598719d7",
   "metadata": {},
   "outputs": [],
   "source": [
    "kredi = [3, 4, 2, 4]"
   ]
  },
  {
   "cell_type": "code",
   "execution_count": 9,
   "id": "6d1cf72d",
   "metadata": {},
   "outputs": [],
   "source": [
    "kontenjan = [30, 75, 150, 25]"
   ]
  },
  {
   "cell_type": "markdown",
   "id": "19b92335",
   "metadata": {},
   "source": [
    "+ 1. Method"
   ]
  },
  {
   "cell_type": "code",
   "execution_count": 10,
   "id": "51832098",
   "metadata": {
    "scrolled": true
   },
   "outputs": [
    {
     "name": "stdout",
     "output_type": "stream",
     "text": [
      "kredisi 3 olan CMP1005 kodlu dersin kontenjanı 30\n",
      "kredisi 4 olan PSY1001 kodlu dersin kontenjanı 75\n",
      "kredisi 2 olan HUK1005 kodlu dersin kontenjanı 150\n",
      "kredisi 4 olan SEN2204 kodlu dersin kontenjanı 25\n"
     ]
    }
   ],
   "source": [
    "result = list(zip(kredi, ders_kodu, kontenjan))\n",
    "\n",
    "for kredi, ders_kodu, kontenjan in result:\n",
    "    print(f\"kredisi {kredi} olan {ders_kodu} kodlu dersin kontenjanı {kontenjan}\")"
   ]
  },
  {
   "cell_type": "markdown",
   "id": "a24f500f",
   "metadata": {},
   "source": [
    "+ 2. Method"
   ]
  },
  {
   "cell_type": "code",
   "execution_count": 18,
   "id": "df441e85",
   "metadata": {
    "scrolled": true
   },
   "outputs": [
    {
     "name": "stdout",
     "output_type": "stream",
     "text": [
      "Kredisi 3 olan CMP1005 kodlu dersin kontejanı 30 kişidir.\n",
      "Kredisi 4 olan PSY1001 kodlu dersin kontejanı 75 kişidir.\n",
      "Kredisi 2 olan HUK1005 kodlu dersin kontejanı 150 kişidir.\n",
      "Kredisi 4 olan SEN2204 kodlu dersin kontejanı 25 kişidir.\n"
     ]
    }
   ],
   "source": [
    "for ders_kodu, kredi, kontenjan in zip(ders_kodu, kredi, kontenjan):\n",
    "    print(f\"Kredisi {kredi} olan {ders_kodu} kodlu dersin kontejanı {kontenjan} kişidir.\")"
   ]
  }
 ],
 "metadata": {
  "kernelspec": {
   "display_name": "Python 3 (ipykernel)",
   "language": "python",
   "name": "python3"
  },
  "language_info": {
   "codemirror_mode": {
    "name": "ipython",
    "version": 3
   },
   "file_extension": ".py",
   "mimetype": "text/x-python",
   "name": "python",
   "nbconvert_exporter": "python",
   "pygments_lexer": "ipython3",
   "version": "3.9.12"
  }
 },
 "nbformat": 4,
 "nbformat_minor": 5
}
