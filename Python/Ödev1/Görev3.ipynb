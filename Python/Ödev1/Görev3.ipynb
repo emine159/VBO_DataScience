{
 "cells": [
  {
   "cell_type": "markdown",
   "id": "63d4aff0",
   "metadata": {},
   "source": [
    "## Görev 3 \n",
    "> Verilen liste için aşağıdaki görevleri yapınız."
   ]
  },
  {
   "cell_type": "code",
   "execution_count": 1,
   "id": "2fd41464",
   "metadata": {},
   "outputs": [],
   "source": [
    "lst = [\"D\",\"A\",\"T\",\"A\",\"S\",\"C\",\"I\",\"E\",\"N\",\"C\",\"E\"]"
   ]
  },
  {
   "cell_type": "markdown",
   "id": "d75992e3",
   "metadata": {},
   "source": [
    "> + Adım 1: Verilen listenin eleman sayısına bakın."
   ]
  },
  {
   "cell_type": "code",
   "execution_count": 2,
   "id": "29a12178",
   "metadata": {},
   "outputs": [
    {
     "data": {
      "text/plain": [
       "11"
      ]
     },
     "execution_count": 2,
     "metadata": {},
     "output_type": "execute_result"
    }
   ],
   "source": [
    "len(lst)"
   ]
  },
  {
   "cell_type": "markdown",
   "id": "5384fb63",
   "metadata": {},
   "source": [
    "> + Adım 2: Sıfırıncı ve onuncu index'teki elemanları çağırın."
   ]
  },
  {
   "cell_type": "code",
   "execution_count": 4,
   "id": "d8699518",
   "metadata": {},
   "outputs": [
    {
     "data": {
      "text/plain": [
       "'D'"
      ]
     },
     "execution_count": 4,
     "metadata": {},
     "output_type": "execute_result"
    }
   ],
   "source": [
    "lst[0]"
   ]
  },
  {
   "cell_type": "code",
   "execution_count": 5,
   "id": "7c436766",
   "metadata": {},
   "outputs": [
    {
     "data": {
      "text/plain": [
       "'E'"
      ]
     },
     "execution_count": 5,
     "metadata": {},
     "output_type": "execute_result"
    }
   ],
   "source": [
    "lst[10]"
   ]
  },
  {
   "cell_type": "markdown",
   "id": "782d7af3",
   "metadata": {},
   "source": [
    "> + Adım 3: Verilen liste üzerinden [\"D\",\"A\",\"T\",\"A\"] listesi oluşturun."
   ]
  },
  {
   "cell_type": "markdown",
   "id": "ff51a306",
   "metadata": {},
   "source": [
    "+ 1. Method"
   ]
  },
  {
   "cell_type": "code",
   "execution_count": 6,
   "id": "a9fbda5a",
   "metadata": {},
   "outputs": [
    {
     "data": {
      "text/plain": [
       "['D', 'A', 'T', 'A']"
      ]
     },
     "execution_count": 6,
     "metadata": {},
     "output_type": "execute_result"
    }
   ],
   "source": [
    "lst[0:4]"
   ]
  },
  {
   "cell_type": "markdown",
   "id": "a815f65c",
   "metadata": {},
   "source": [
    "+ 2. Method"
   ]
  },
  {
   "cell_type": "code",
   "execution_count": 7,
   "id": "56114fc3",
   "metadata": {},
   "outputs": [
    {
     "data": {
      "text/plain": [
       "['D', 'A', 'T', 'A']"
      ]
     },
     "execution_count": 7,
     "metadata": {},
     "output_type": "execute_result"
    }
   ],
   "source": [
    "lst[:4]"
   ]
  },
  {
   "cell_type": "markdown",
   "id": "bf4cbc89",
   "metadata": {},
   "source": [
    "> + Adım 4: Sekizinci index'teki elemanı silin."
   ]
  },
  {
   "cell_type": "markdown",
   "id": "3dd1bb28",
   "metadata": {},
   "source": [
    "+ 1 . Method"
   ]
  },
  {
   "cell_type": "code",
   "execution_count": 8,
   "id": "683defd8",
   "metadata": {},
   "outputs": [
    {
     "data": {
      "text/plain": [
       "'N'"
      ]
     },
     "execution_count": 8,
     "metadata": {},
     "output_type": "execute_result"
    }
   ],
   "source": [
    "lst.pop(8)"
   ]
  },
  {
   "cell_type": "markdown",
   "id": "d2b4aef0",
   "metadata": {},
   "source": [
    "+ 2. method"
   ]
  },
  {
   "cell_type": "code",
   "execution_count": 9,
   "id": "7912d515",
   "metadata": {},
   "outputs": [],
   "source": [
    "del lst[8]"
   ]
  },
  {
   "cell_type": "markdown",
   "id": "c3493d0c",
   "metadata": {},
   "source": [
    "> + Adım 5: Yeni bir eleman ekleyin."
   ]
  },
  {
   "cell_type": "code",
   "execution_count": 10,
   "id": "188c188f",
   "metadata": {},
   "outputs": [],
   "source": [
    "lst.append(\"A\") "
   ]
  },
  {
   "cell_type": "code",
   "execution_count": 11,
   "id": "92a516bb",
   "metadata": {},
   "outputs": [
    {
     "data": {
      "text/plain": [
       "['D', 'A', 'T', 'A', 'S', 'C', 'I', 'E', 'E', 'A']"
      ]
     },
     "execution_count": 11,
     "metadata": {},
     "output_type": "execute_result"
    }
   ],
   "source": [
    "lst"
   ]
  },
  {
   "cell_type": "markdown",
   "id": "2252797d",
   "metadata": {},
   "source": [
    "> + Adım 6: Sekizinci index'e  \"N\" elemanını tekrar ekleyin."
   ]
  },
  {
   "cell_type": "code",
   "execution_count": 12,
   "id": "bb72e828",
   "metadata": {},
   "outputs": [],
   "source": [
    "lst.insert(8, \"N\")"
   ]
  },
  {
   "cell_type": "code",
   "execution_count": 13,
   "id": "36316bd3",
   "metadata": {},
   "outputs": [
    {
     "data": {
      "text/plain": [
       "['D', 'A', 'T', 'A', 'S', 'C', 'I', 'E', 'N', 'E', 'A']"
      ]
     },
     "execution_count": 13,
     "metadata": {},
     "output_type": "execute_result"
    }
   ],
   "source": [
    "lst"
   ]
  }
 ],
 "metadata": {
  "kernelspec": {
   "display_name": "Python 3 (ipykernel)",
   "language": "python",
   "name": "python3"
  },
  "language_info": {
   "codemirror_mode": {
    "name": "ipython",
    "version": 3
   },
   "file_extension": ".py",
   "mimetype": "text/x-python",
   "name": "python",
   "nbconvert_exporter": "python",
   "pygments_lexer": "ipython3",
   "version": "3.9.12"
  }
 },
 "nbformat": 4,
 "nbformat_minor": 5
}
