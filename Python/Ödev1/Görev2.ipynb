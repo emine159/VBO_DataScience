{
 "cells": [
  {
   "cell_type": "markdown",
   "id": "2b24da8b",
   "metadata": {},
   "source": [
    "## Görev 2 \n",
    "> Verilen string ifadenin tüm harflerini büyük harfe çeviriniz. Virgül ve nokta yerine space koyunuz, kelime kelime ayırınız."
   ]
  },
  {
   "cell_type": "code",
   "execution_count": 1,
   "id": "dc9eb796",
   "metadata": {},
   "outputs": [],
   "source": [
    "text = \"The goal is to turn data into information, and information into insight.\"\n"
   ]
  },
  {
   "cell_type": "code",
   "execution_count": 2,
   "id": "c7cc941f",
   "metadata": {},
   "outputs": [
    {
     "data": {
      "text/plain": [
       "['THE',\n",
       " 'GOAL',\n",
       " 'IS',\n",
       " 'TO',\n",
       " 'TURN',\n",
       " 'DATA',\n",
       " 'INTO',\n",
       " 'INFORMATION',\n",
       " 'AND',\n",
       " 'INFORMATION',\n",
       " 'INTO',\n",
       " 'INSIGHT']"
      ]
     },
     "execution_count": 2,
     "metadata": {},
     "output_type": "execute_result"
    }
   ],
   "source": [
    "text.upper().replace(',', '').replace('.', '').split()\n"
   ]
  }
 ],
 "metadata": {
  "kernelspec": {
   "display_name": "Python 3 (ipykernel)",
   "language": "python",
   "name": "python3"
  },
  "language_info": {
   "codemirror_mode": {
    "name": "ipython",
    "version": 3
   },
   "file_extension": ".py",
   "mimetype": "text/x-python",
   "name": "python",
   "nbconvert_exporter": "python",
   "pygments_lexer": "ipython3",
   "version": "3.9.12"
  }
 },
 "nbformat": 4,
 "nbformat_minor": 5
}
