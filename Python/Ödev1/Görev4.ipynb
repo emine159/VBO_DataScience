{
 "cells": [
  {
   "cell_type": "markdown",
   "id": "80cd2760",
   "metadata": {},
   "source": [
    "## Görev 4\n",
    "> Verilen sözlük yapısına aşağıdaki adımları uygulayınız."
   ]
  },
  {
   "cell_type": "code",
   "execution_count": 1,
   "id": "27362b1d",
   "metadata": {},
   "outputs": [],
   "source": [
    "dict = {'Christian': [\"America\",18],\n",
    "        'Daisy':[\"England\",12],\n",
    "        'Antonio':[\"Spain\",22],\n",
    "        'Dante':[\"Italy\",25]}"
   ]
  },
  {
   "cell_type": "code",
   "execution_count": 2,
   "id": "e6213a24",
   "metadata": {},
   "outputs": [
    {
     "data": {
      "text/plain": [
       "{'Christian': ['America', 18],\n",
       " 'Daisy': ['England', 12],\n",
       " 'Antonio': ['Spain', 22],\n",
       " 'Dante': ['Italy', 25]}"
      ]
     },
     "execution_count": 2,
     "metadata": {},
     "output_type": "execute_result"
    }
   ],
   "source": [
    "dict"
   ]
  },
  {
   "cell_type": "markdown",
   "id": "a120cbca",
   "metadata": {},
   "source": [
    "> + Adım 1: Key değerlerine erişiniz."
   ]
  },
  {
   "cell_type": "code",
   "execution_count": 3,
   "id": "76cbf766",
   "metadata": {},
   "outputs": [
    {
     "data": {
      "text/plain": [
       "dict_keys(['Christian', 'Daisy', 'Antonio', 'Dante'])"
      ]
     },
     "execution_count": 3,
     "metadata": {},
     "output_type": "execute_result"
    }
   ],
   "source": [
    "dict.keys()"
   ]
  },
  {
   "cell_type": "markdown",
   "id": "09ebb54c",
   "metadata": {},
   "source": [
    "> + Adım 2: Value'lara erişiniz."
   ]
  },
  {
   "cell_type": "code",
   "execution_count": 4,
   "id": "6cbf82e9",
   "metadata": {},
   "outputs": [
    {
     "data": {
      "text/plain": [
       "dict_values([['America', 18], ['England', 12], ['Spain', 22], ['Italy', 25]])"
      ]
     },
     "execution_count": 4,
     "metadata": {},
     "output_type": "execute_result"
    }
   ],
   "source": [
    "dict.values()"
   ]
  },
  {
   "cell_type": "markdown",
   "id": "e7ab2247",
   "metadata": {},
   "source": [
    "> + Adım 3: Daisy key'ine ait 12 değerini 13 olarak güncelleyiniz."
   ]
  },
  {
   "cell_type": "markdown",
   "id": "5b6b36c2",
   "metadata": {},
   "source": [
    "+ 1. Method"
   ]
  },
  {
   "cell_type": "code",
   "execution_count": 5,
   "id": "97a3e63e",
   "metadata": {},
   "outputs": [],
   "source": [
    "dict.update({\"Daisy\": [\"England\", 13]})"
   ]
  },
  {
   "cell_type": "code",
   "execution_count": 6,
   "id": "f031bfca",
   "metadata": {},
   "outputs": [
    {
     "data": {
      "text/plain": [
       "{'Christian': ['America', 18],\n",
       " 'Daisy': ['England', 13],\n",
       " 'Antonio': ['Spain', 22],\n",
       " 'Dante': ['Italy', 25]}"
      ]
     },
     "execution_count": 6,
     "metadata": {},
     "output_type": "execute_result"
    }
   ],
   "source": [
    "dict"
   ]
  },
  {
   "cell_type": "markdown",
   "id": "d52bd6ac",
   "metadata": {},
   "source": [
    "+ 2. Method"
   ]
  },
  {
   "cell_type": "code",
   "execution_count": 7,
   "id": "fde454f5",
   "metadata": {},
   "outputs": [],
   "source": [
    "dict[\"Daisy\"] = [\"England\", 13]"
   ]
  },
  {
   "cell_type": "code",
   "execution_count": 8,
   "id": "74ee600b",
   "metadata": {},
   "outputs": [
    {
     "data": {
      "text/plain": [
       "{'Christian': ['America', 18],\n",
       " 'Daisy': ['England', 13],\n",
       " 'Antonio': ['Spain', 22],\n",
       " 'Dante': ['Italy', 25]}"
      ]
     },
     "execution_count": 8,
     "metadata": {},
     "output_type": "execute_result"
    }
   ],
   "source": [
    "dict"
   ]
  },
  {
   "cell_type": "markdown",
   "id": "3d8ee258",
   "metadata": {},
   "source": [
    "> + Adım 4: Key değeri Ahmet value değeri [Turkey,24] olan yeni bir değer ekleyiniz."
   ]
  },
  {
   "cell_type": "code",
   "execution_count": 9,
   "id": "b9b3cbc5",
   "metadata": {},
   "outputs": [],
   "source": [
    "dict.update({\"Ahmet\": [\"Turkey\", 24]})"
   ]
  },
  {
   "cell_type": "code",
   "execution_count": 10,
   "id": "f6be58dc",
   "metadata": {},
   "outputs": [
    {
     "data": {
      "text/plain": [
       "{'Christian': ['America', 18],\n",
       " 'Daisy': ['England', 13],\n",
       " 'Antonio': ['Spain', 22],\n",
       " 'Dante': ['Italy', 25],\n",
       " 'Ahmet': ['Turkey', 24]}"
      ]
     },
     "execution_count": 10,
     "metadata": {},
     "output_type": "execute_result"
    }
   ],
   "source": [
    "dict"
   ]
  },
  {
   "cell_type": "markdown",
   "id": "39b36c04",
   "metadata": {},
   "source": [
    "> + Adım 5: Antonio'yu dictionary'den siliniz."
   ]
  },
  {
   "cell_type": "code",
   "execution_count": 11,
   "id": "32434b3d",
   "metadata": {},
   "outputs": [
    {
     "data": {
      "text/plain": [
       "['Spain', 22]"
      ]
     },
     "execution_count": 11,
     "metadata": {},
     "output_type": "execute_result"
    }
   ],
   "source": [
    "dict.pop(\"Antonio\")"
   ]
  },
  {
   "cell_type": "code",
   "execution_count": 12,
   "id": "8492c81f",
   "metadata": {},
   "outputs": [
    {
     "data": {
      "text/plain": [
       "{'Christian': ['America', 18],\n",
       " 'Daisy': ['England', 13],\n",
       " 'Dante': ['Italy', 25],\n",
       " 'Ahmet': ['Turkey', 24]}"
      ]
     },
     "execution_count": 12,
     "metadata": {},
     "output_type": "execute_result"
    }
   ],
   "source": [
    "dict"
   ]
  }
 ],
 "metadata": {
  "kernelspec": {
   "display_name": "Python 3 (ipykernel)",
   "language": "python",
   "name": "python3"
  },
  "language_info": {
   "codemirror_mode": {
    "name": "ipython",
    "version": 3
   },
   "file_extension": ".py",
   "mimetype": "text/x-python",
   "name": "python",
   "nbconvert_exporter": "python",
   "pygments_lexer": "ipython3",
   "version": "3.9.12"
  }
 },
 "nbformat": 4,
 "nbformat_minor": 5
}
