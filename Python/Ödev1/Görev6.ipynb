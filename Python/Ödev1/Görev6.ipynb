{
 "cells": [
  {
   "cell_type": "markdown",
   "id": "fcf359bf",
   "metadata": {},
   "source": [
    "## Görev 6\n",
    "> Aşağıda verilen listede mühendislik ve tıpfakülterinde dereceye giren öğrencilerin isimleri bulunmaktadır. Sırasıyla ilk üç öğrenci mühendislik fakültesinin başarı sırasını temsil ederken son üç öğrenci de tıp fakültesi öğrenci sırasına aittir. Enumarate kullanarak öğrenci derecelerini fakülte özelinde yazdırınız."
   ]
  },
  {
   "cell_type": "code",
   "execution_count": 1,
   "id": "95bbe11b",
   "metadata": {},
   "outputs": [],
   "source": [
    "ogrenciler = ['Ali', 'Veli', 'Ayşe', 'Talat', 'Zeynep', 'Ece']"
   ]
  },
  {
   "cell_type": "markdown",
   "id": "6cc3a646",
   "metadata": {},
   "source": [
    "+ 1. Method"
   ]
  },
  {
   "cell_type": "code",
   "execution_count": 2,
   "id": "3f9d08e3",
   "metadata": {},
   "outputs": [
    {
     "name": "stdout",
     "output_type": "stream",
     "text": [
      "Mühendislik Fakültesi 1. öğrenci : Ali\n",
      "Mühendislik Fakültesi 2. öğrenci : Veli\n",
      "Mühendislik Fakültesi 3. öğrenci : Ayşe\n",
      "Tıp Fakülseri 1. öğrenci : Talat\n",
      "Tıp Fakülseri 2. öğrenci : Zeynep\n",
      "Tıp Fakülseri 3. öğrenci : Ece\n"
     ]
    }
   ],
   "source": [
    "def student_index(list):\n",
    "    for index, student in enumerate(list, 1):\n",
    "        if index <= 3:\n",
    "            print(\"Mühendislik Fakültesi {}. öğrenci : {}\".format(index, student) )\n",
    "        else:\n",
    "            print(\"Tıp Fakülseri {}. öğrenci : {}\".format(index-3, student))\n",
    "    return\n",
    "\n",
    "student_index(ogrenciler)"
   ]
  },
  {
   "cell_type": "markdown",
   "id": "ddf0b03c",
   "metadata": {},
   "source": [
    "+ 2. Method"
   ]
  },
  {
   "cell_type": "code",
   "execution_count": 5,
   "id": "5764026e",
   "metadata": {},
   "outputs": [
    {
     "name": "stdout",
     "output_type": "stream",
     "text": [
      "mühedislik fakültesinde 1 olan öğrenci Ali\n",
      "mühedislik fakültesinde 2 olan öğrenci Veli\n",
      "mühedislik fakültesinde 3 olan öğrenci Ayşe\n",
      " tıp fakültesinde 1 olan öğrenci Talat\n",
      "tıp fakültesinde 2 olan öğrenci Zeynep\n",
      "tıp fakültesinde 3 olan öğrenci Ece\n",
      "\n"
     ]
    }
   ],
   "source": [
    "def ogrenciler_fun(l):\n",
    "    muhendislik_fak = \"\"\n",
    "    tip_fakultesi = \"\"\n",
    "    for index, row in enumerate(l):\n",
    "        if index < 3:\n",
    "           muhendislik_fak += \"mühedislik fakültesinde \" + str(index + 1) + \" olan öğrenci \" + row + \"\\n\"\n",
    "\n",
    "        else:\n",
    "           tip_fakultesi += \"tıp fakültesinde \" + str(index - 2) + \" olan öğrenci \" + row + \"\\n\"\n",
    "    return muhendislik_fak, tıp_fakultesi\n",
    "\n",
    "muhendislik_fak, tip_fakultesi = ogrenciler_fun(ogrenciler)\n",
    "print(muhendislik_fak, tip_fakultesi)"
   ]
  }
 ],
 "metadata": {
  "kernelspec": {
   "display_name": "Python 3 (ipykernel)",
   "language": "python",
   "name": "python3"
  },
  "language_info": {
   "codemirror_mode": {
    "name": "ipython",
    "version": 3
   },
   "file_extension": ".py",
   "mimetype": "text/x-python",
   "name": "python",
   "nbconvert_exporter": "python",
   "pygments_lexer": "ipython3",
   "version": "3.9.12"
  }
 },
 "nbformat": 4,
 "nbformat_minor": 5
}
