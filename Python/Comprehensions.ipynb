{
 "cells": [
  {
   "cell_type": "markdown",
   "id": "54425904",
   "metadata": {},
   "source": [
    "# List  Comprehensions\n",
    "> Birden fazla satır ve kod ile yapılacak işlemleri kolayca tek bir satırda gerçekleştirebildiğimiz çıktılardır.\n",
    ">> Klasik yol;\n",
    "> + Uygulanacak zam için fonksiyon yazdık.\n",
    "> + 3000 den fazla olan maaşlara %20 zam ve 3000 küçük olana maaşlara ise %20' nin 2 katı zam uyguladığımız bir döngü yazdık."
   ]
  },
  {
   "cell_type": "code",
   "execution_count": 1,
   "id": "2abf079d",
   "metadata": {},
   "outputs": [],
   "source": [
    "salaries = [1000, 2000, 3000, 4000, 5000]"
   ]
  },
  {
   "cell_type": "code",
   "execution_count": 2,
   "id": "8fd28091",
   "metadata": {},
   "outputs": [],
   "source": [
    "def new_salary(x):\n",
    "        return x * 20 / 100 + x"
   ]
  },
  {
   "cell_type": "code",
   "execution_count": 3,
   "id": "bc162f98",
   "metadata": {},
   "outputs": [
    {
     "name": "stdout",
     "output_type": "stream",
     "text": [
      "[2400.0, 4800.0, 7200.0, 4800.0, 6000.0]\n"
     ]
    }
   ],
   "source": [
    "null_list = []\n",
    "\n",
    "for salary in salaries:\n",
    "    if salary > 3000:\n",
    "        null_list.append(new_salary(salary))   \n",
    "    else:\n",
    "        null_list.append(new_salary(salary * 2))\n",
    "        \n",
    "print(null_list)        "
   ]
  },
  {
   "cell_type": "markdown",
   "id": "e3ee1032",
   "metadata": {},
   "source": [
    ">> + List  Comprehension yol;\n",
    ">+ Kademe kademe list comprehensions yapısını inceleyeceğiz.List  Comprehensions nasıl oluşturulur;\n",
    "> + Liste oluşturma işlemiyle başlar.\n",
    "> + Liste yapısının içerisine bir döngü ve bu döngünün ne yapamsını istediğimizi yazılır."
   ]
  },
  {
   "cell_type": "code",
   "execution_count": 4,
   "id": "3b032891",
   "metadata": {},
   "outputs": [
    {
     "data": {
      "text/plain": [
       "[2000, 4000, 6000, 8000, 10000]"
      ]
     },
     "execution_count": 4,
     "metadata": {},
     "output_type": "execute_result"
    }
   ],
   "source": [
    "[salary * 2for salary in salaries]"
   ]
  },
  {
   "cell_type": "markdown",
   "id": "5c12741c",
   "metadata": {},
   "source": [
    "> + Ortadaki for döngüsünde dolaşacak, daha sonra if döngüsü koşuluğunu sağlıyorsa baştaki işlemi uygulayıp ekrana yazdıracak."
   ]
  },
  {
   "cell_type": "code",
   "execution_count": 5,
   "id": "ae5063d8",
   "metadata": {},
   "outputs": [
    {
     "data": {
      "text/plain": [
       "[2000, 4000]"
      ]
     },
     "execution_count": 5,
     "metadata": {},
     "output_type": "execute_result"
    }
   ],
   "source": [
    "[salary * 2 for salary in salaries if salary < 3000]"
   ]
  },
  {
   "cell_type": "markdown",
   "id": "7ebd2bc6",
   "metadata": {},
   "source": [
    "> + !! Comprehension yapısında tek bir if yapısı kullacaksak for döngüsünün sonunda yer alacaktır eğer if ve else yapısını aynı anda kullanmak istersek for döngüsünün başında başında yer alacaktır."
   ]
  },
  {
   "cell_type": "code",
   "execution_count": 7,
   "id": "c051c269",
   "metadata": {},
   "outputs": [
    {
     "data": {
      "text/plain": [
       "[2000, 4000, 0, 0, 0]"
      ]
     },
     "execution_count": 7,
     "metadata": {},
     "output_type": "execute_result"
    }
   ],
   "source": [
    "[salary * 2 if salary < 3000 else salary * 0 for salary in salaries ]"
   ]
  },
  {
   "cell_type": "code",
   "execution_count": 8,
   "id": "7bc6964c",
   "metadata": {},
   "outputs": [
    {
     "data": {
      "text/plain": [
       "[2400.0, 4800.0, 720.0, 960.0, 1200.0]"
      ]
     },
     "execution_count": 8,
     "metadata": {},
     "output_type": "execute_result"
    }
   ],
   "source": [
    "[new_salary(salary )* 2 if salary < 3000 else new_salary(salary * 0.2) for salary in salaries ]"
   ]
  },
  {
   "cell_type": "markdown",
   "id": "9f87484b",
   "metadata": {},
   "source": [
    "###### Örnek List Comprehensions\n",
    "> + Elimizde students ve studets_no adında iki liste olsun.\n",
    "> + students_no listesindeki elemanları küçük, students listesindeki elemanları büyük harfle yazdıralım."
   ]
  },
  {
   "cell_type": "code",
   "execution_count": 10,
   "id": "6afe93a3",
   "metadata": {},
   "outputs": [],
   "source": [
    "students = [\"Emine\", \"ali\", \"Ayşe\", \"İrem\"]"
   ]
  },
  {
   "cell_type": "code",
   "execution_count": 11,
   "id": "5d92d21f",
   "metadata": {},
   "outputs": [],
   "source": [
    "students_no = [\"Emine\", \"Ayşe\"]"
   ]
  },
  {
   "cell_type": "code",
   "execution_count": 12,
   "id": "a8797b85",
   "metadata": {},
   "outputs": [
    {
     "data": {
      "text/plain": [
       "['emine', 'ALI', 'ayşe', 'İREM']"
      ]
     },
     "execution_count": 12,
     "metadata": {},
     "output_type": "execute_result"
    }
   ],
   "source": [
    "[student.lower() if student in students_no else student.upper()  for student in students]"
   ]
  },
  {
   "cell_type": "code",
   "execution_count": 13,
   "id": "57c69cce",
   "metadata": {},
   "outputs": [
    {
     "data": {
      "text/plain": [
       "['emine', 'ALI', 'ayşe', 'İREM']"
      ]
     },
     "execution_count": 13,
     "metadata": {},
     "output_type": "execute_result"
    }
   ],
   "source": [
    "[student.upper() if student not in students_no else student.lower()  for student in students]"
   ]
  },
  {
   "cell_type": "markdown",
   "id": "9e167ad6",
   "metadata": {},
   "source": [
    "## Dict Comprehensions\n",
    "> Birden fazla satır ve kod ile yapılacak işlemleri kolayca tek bir satırda gerçekleştirebildiğimiz çıktılardır.\n",
    "> + Klasik yola bir göz atalım;"
   ]
  },
  {
   "cell_type": "code",
   "execution_count": 15,
   "id": "c207c80a",
   "metadata": {},
   "outputs": [],
   "source": [
    "dictionary = {'a':1, \n",
    "              'b':2, \n",
    "              'c':3, \n",
    "              'd':4}"
   ]
  },
  {
   "cell_type": "markdown",
   "id": "ae115c57",
   "metadata": {},
   "source": [
    "> + Sözlüğün anahtar kelimerine erişmek istersek;"
   ]
  },
  {
   "cell_type": "code",
   "execution_count": 17,
   "id": "feafa4b4",
   "metadata": {},
   "outputs": [
    {
     "data": {
      "text/plain": [
       "dict_keys(['a', 'b', 'c', 'd'])"
      ]
     },
     "execution_count": 17,
     "metadata": {},
     "output_type": "execute_result"
    }
   ],
   "source": [
    "dictionary.keys()"
   ]
  },
  {
   "cell_type": "markdown",
   "id": "5c2a719b",
   "metadata": {},
   "source": [
    "> + Sözlüğün değerlerine erişmek istersek;"
   ]
  },
  {
   "cell_type": "code",
   "execution_count": 18,
   "id": "aa0b4a62",
   "metadata": {},
   "outputs": [
    {
     "data": {
      "text/plain": [
       "dict_values([1, 2, 3, 4])"
      ]
     },
     "execution_count": 18,
     "metadata": {},
     "output_type": "execute_result"
    }
   ],
   "source": [
    "dictionary.values()"
   ]
  },
  {
   "cell_type": "markdown",
   "id": "45366203",
   "metadata": {},
   "source": [
    "> + Sözlük yapısına bir liste içerisinde tuple şekilde ifade edelmesini istersek;"
   ]
  },
  {
   "cell_type": "code",
   "execution_count": 19,
   "id": "73155546",
   "metadata": {},
   "outputs": [
    {
     "data": {
      "text/plain": [
       "dict_items([('a', 1), ('b', 2), ('c', 3), ('d', 4)])"
      ]
     },
     "execution_count": 19,
     "metadata": {},
     "output_type": "execute_result"
    }
   ],
   "source": [
    "dictionary.items()"
   ]
  },
  {
   "cell_type": "markdown",
   "id": "b2abba81",
   "metadata": {},
   "source": [
    "> Value yapılan işlem.\n",
    "> + Sözlük içerisindeki her bir value'nin karesini alalım.\n",
    "> + k : key değerlerini v : value değerlerini temsil edetsin.\n",
    "> + !! key değrleri sabit "
   ]
  },
  {
   "cell_type": "code",
   "execution_count": 21,
   "id": "e742a843",
   "metadata": {},
   "outputs": [
    {
     "data": {
      "text/plain": [
       "{'a': 1, 'b': 4, 'c': 9, 'd': 16}"
      ]
     },
     "execution_count": 21,
     "metadata": {},
     "output_type": "execute_result"
    }
   ],
   "source": [
    "{k: v **2 for(k,v) in dictionary.items()}"
   ]
  },
  {
   "cell_type": "markdown",
   "id": "a31f8965",
   "metadata": {},
   "source": [
    "> Key'e yapılan işlem\n",
    "> + Sözlük içerisindeki key ifadelerini büyültmek\n",
    "> + !! Value değerleri sabit"
   ]
  },
  {
   "cell_type": "code",
   "execution_count": 23,
   "id": "f02dafea",
   "metadata": {},
   "outputs": [
    {
     "data": {
      "text/plain": [
       "{'A': 1, 'B': 2, 'C': 3, 'D': 4}"
      ]
     },
     "execution_count": 23,
     "metadata": {},
     "output_type": "execute_result"
    }
   ],
   "source": [
    "{k.upper(): v for(k,v) in dictionary.items()}"
   ]
  },
  {
   "cell_type": "markdown",
   "id": "f1c0df08",
   "metadata": {},
   "source": [
    "> Key ve Value değerlerini aynı anda işleme almak.\n",
    "> + Key değerlerini büyüt, value değerlerini 2 ile çarp."
   ]
  },
  {
   "cell_type": "code",
   "execution_count": 25,
   "id": "57e1a68b",
   "metadata": {},
   "outputs": [
    {
     "data": {
      "text/plain": [
       "{'A': 2, 'B': 4, 'C': 6, 'D': 8}"
      ]
     },
     "execution_count": 25,
     "metadata": {},
     "output_type": "execute_result"
    }
   ],
   "source": [
    " {k.upper(): v * 2 for(k, v) in dictionary.items()}"
   ]
  }
 ],
 "metadata": {
  "kernelspec": {
   "display_name": "Python 3 (ipykernel)",
   "language": "python",
   "name": "python3"
  },
  "language_info": {
   "codemirror_mode": {
    "name": "ipython",
    "version": 3
   },
   "file_extension": ".py",
   "mimetype": "text/x-python",
   "name": "python",
   "nbconvert_exporter": "python",
   "pygments_lexer": "ipython3",
   "version": "3.9.12"
  }
 },
 "nbformat": 4,
 "nbformat_minor": 5
}
