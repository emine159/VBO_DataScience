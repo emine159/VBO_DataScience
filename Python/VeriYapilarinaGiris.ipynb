{
 "cells": [
  {
   "cell_type": "markdown",
   "id": "f018af69",
   "metadata": {},
   "source": [
    "# Veri Yapıları\n",
    "\n",
    "* Sayılar : int, float, complex\n",
    "* Karakter Dizileri : str\n",
    "* Boolean : True, False\n",
    "* Liste (list)\n",
    "* Sözlük (Dictionary)\n",
    "* Demet (Tuple)\n",
    "* Set"
   ]
  },
  {
   "cell_type": "markdown",
   "id": "87583595",
   "metadata": {},
   "source": [
    "## Sayılar : int, float"
   ]
  },
  {
   "cell_type": "code",
   "execution_count": 3,
   "id": "f2a7e00f",
   "metadata": {},
   "outputs": [],
   "source": [
    "a = 5         # int yapıda sayı \n",
    "b = 10.2      # float yapıda sayı "
   ]
  },
  {
   "cell_type": "markdown",
   "id": "bd52c6e7",
   "metadata": {},
   "source": [
    "> Değişkenler üzerinden matematiksel işlemleri kolaylıkla gerçekleştirebiliriz. "
   ]
  },
  {
   "cell_type": "code",
   "execution_count": 9,
   "id": "11e36d2f",
   "metadata": {},
   "outputs": [
    {
     "data": {
      "text/plain": [
       "15"
      ]
     },
     "execution_count": 9,
     "metadata": {},
     "output_type": "execute_result"
    }
   ],
   "source": [
    "a * 3"
   ]
  },
  {
   "cell_type": "code",
   "execution_count": 10,
   "id": "8298f55e",
   "metadata": {},
   "outputs": [
    {
     "data": {
      "text/plain": [
       "4.636363636363637"
      ]
     },
     "execution_count": 10,
     "metadata": {},
     "output_type": "execute_result"
    }
   ],
   "source": [
    "a * b / 11"
   ]
  },
  {
   "cell_type": "code",
   "execution_count": 11,
   "id": "6c143ed7",
   "metadata": {},
   "outputs": [
    {
     "data": {
      "text/plain": [
       "104.03999999999999"
      ]
     },
     "execution_count": 11,
     "metadata": {},
     "output_type": "execute_result"
    }
   ],
   "source": [
    "b ** 2         # kara alma işlemi"
   ]
  },
  {
   "cell_type": "markdown",
   "id": "aab78158",
   "metadata": {},
   "source": [
    "> Float veri yapısını int çevirme yada int veri yapısını floata çevirme işlemi aşağıdaki gibidir."
   ]
  },
  {
   "cell_type": "code",
   "execution_count": 13,
   "id": "b316ce9c",
   "metadata": {},
   "outputs": [
    {
     "data": {
      "text/plain": [
       "10"
      ]
     },
     "execution_count": 13,
     "metadata": {},
     "output_type": "execute_result"
    }
   ],
   "source": [
    "b = 10.2 \n",
    "int(b)"
   ]
  },
  {
   "cell_type": "code",
   "execution_count": 15,
   "id": "049de026",
   "metadata": {},
   "outputs": [
    {
     "data": {
      "text/plain": [
       "5.0"
      ]
     },
     "execution_count": 15,
     "metadata": {},
     "output_type": "execute_result"
    }
   ],
   "source": [
    "a = 5\n",
    "float(a)"
   ]
  },
  {
   "cell_type": "code",
   "execution_count": 17,
   "id": "be6555ae",
   "metadata": {},
   "outputs": [
    {
     "data": {
      "text/plain": [
       "5.1"
      ]
     },
     "execution_count": 17,
     "metadata": {},
     "output_type": "execute_result"
    }
   ],
   "source": [
    "a * b /10"
   ]
  },
  {
   "cell_type": "code",
   "execution_count": 18,
   "id": "8f4b90f6",
   "metadata": {},
   "outputs": [
    {
     "data": {
      "text/plain": [
       "5"
      ]
     },
     "execution_count": 18,
     "metadata": {},
     "output_type": "execute_result"
    }
   ],
   "source": [
    "int( a * b /10)"
   ]
  },
  {
   "cell_type": "markdown",
   "id": "df9af6d7",
   "metadata": {},
   "source": [
    "## Karakter Dizileri : String\n",
    "\n",
    "> String sınıfı metinlerle yapılacak birleşme, ayrışma, ekleme gibi bütün işleri yapan metotlara sahiptir kısacası karakter forundaki verileri tutmak için kullanılır."
   ]
  },
  {
   "cell_type": "code",
   "execution_count": 20,
   "id": "79a1fa1b",
   "metadata": {},
   "outputs": [
    {
     "name": "stdout",
     "output_type": "stream",
     "text": [
      "Emine\n"
     ]
    }
   ],
   "source": [
    "print(\"Emine\")"
   ]
  },
  {
   "cell_type": "code",
   "execution_count": 21,
   "id": "3a1392b9",
   "metadata": {},
   "outputs": [
    {
     "name": "stdout",
     "output_type": "stream",
     "text": [
      "Emine\n"
     ]
    }
   ],
   "source": [
    "print('Emine')"
   ]
  },
  {
   "cell_type": "code",
   "execution_count": 22,
   "id": "6ba6f7de",
   "metadata": {},
   "outputs": [],
   "source": [
    "name = \"Emine\""
   ]
  },
  {
   "cell_type": "code",
   "execution_count": 23,
   "id": "2beca3ce",
   "metadata": {
    "scrolled": true
   },
   "outputs": [
    {
     "data": {
      "text/plain": [
       "'Emine'"
      ]
     },
     "execution_count": 23,
     "metadata": {},
     "output_type": "execute_result"
    }
   ],
   "source": [
    "name"
   ]
  },
  {
   "cell_type": "markdown",
   "id": "dfb7a8ec",
   "metadata": {},
   "source": [
    "##### Çok satırlı karakter dizileri için\n",
    "> Üç tırnak \"\"\" \"\"\" ifadesi kullanılmalı. Karakterleri tutmak için herhangi bir değre atama yapılabilir."
   ]
  },
  {
   "cell_type": "code",
   "execution_count": 24,
   "id": "fba14d7a",
   "metadata": {},
   "outputs": [
    {
     "data": {
      "text/plain": [
       "' Emine\\nBulut\\nSakarya Üniversitesi\\nMatematik Bölümü \\n'"
      ]
     },
     "execution_count": 24,
     "metadata": {},
     "output_type": "execute_result"
    }
   ],
   "source": [
    "\"\"\" Emine\n",
    "Bulut\n",
    "Sakarya Üniversitesi\n",
    "Matematik Bölümü \n",
    "\"\"\""
   ]
  },
  {
   "cell_type": "code",
   "execution_count": 26,
   "id": "c493f1ef",
   "metadata": {},
   "outputs": [],
   "source": [
    "long_str = \"\"\" Emine\n",
    "Bulut\n",
    "Sakarya Üniversitesi\n",
    "Matematik Bölümü \n",
    "\"\"\""
   ]
  },
  {
   "cell_type": "code",
   "execution_count": 27,
   "id": "19e6ee33",
   "metadata": {},
   "outputs": [
    {
     "data": {
      "text/plain": [
       "' Emine\\nBulut\\nSakarya Üniversitesi\\nMatematik Bölümü \\n'"
      ]
     },
     "execution_count": 27,
     "metadata": {},
     "output_type": "execute_result"
    }
   ],
   "source": [
    "long_str"
   ]
  },
  {
   "cell_type": "markdown",
   "id": "fe64a34c",
   "metadata": {},
   "source": [
    "##### Karakter dizilerinin elemanlarına erişmek için\n",
    "> Köşeli parantez kullandığımızda python bizden bir index seçimi bekler."
   ]
  },
  {
   "cell_type": "code",
   "execution_count": 28,
   "id": "4cf31e91",
   "metadata": {},
   "outputs": [
    {
     "data": {
      "text/plain": [
       "'i'"
      ]
     },
     "execution_count": 28,
     "metadata": {},
     "output_type": "execute_result"
    }
   ],
   "source": [
    "name[2]"
   ]
  },
  {
   "cell_type": "markdown",
   "id": "de7af78b",
   "metadata": {},
   "source": [
    "##### Karakter dizilerinde dilmleme işlemi için\n",
    "> İki index değer girilir. Birinci index başlangıç değeri ikinci index ise kadar git anlamına gelir son index değerini alamaz."
   ]
  },
  {
   "cell_type": "code",
   "execution_count": 29,
   "id": "69a5980c",
   "metadata": {},
   "outputs": [
    {
     "data": {
      "text/plain": [
       "'Emi'"
      ]
     },
     "execution_count": 29,
     "metadata": {},
     "output_type": "execute_result"
    }
   ],
   "source": [
    "name[0:3]"
   ]
  },
  {
   "cell_type": "markdown",
   "id": "6607f446",
   "metadata": {},
   "source": [
    "> İlk index'e değer girmezsek program baştan itibaren alır, ikinci index'e değer girmezsek sona kadar seçim yapar."
   ]
  },
  {
   "cell_type": "code",
   "execution_count": 32,
   "id": "716824cd",
   "metadata": {},
   "outputs": [
    {
     "data": {
      "text/plain": [
       "' Emine\\nBul'"
      ]
     },
     "execution_count": 32,
     "metadata": {},
     "output_type": "execute_result"
    }
   ],
   "source": [
    "long_str[:10]"
   ]
  },
  {
   "cell_type": "code",
   "execution_count": 33,
   "id": "d4fd7abe",
   "metadata": {},
   "outputs": [
    {
     "data": {
      "text/plain": [
       "'e\\nBulut\\nSakarya Üniversitesi\\nMatematik Bölümü \\n'"
      ]
     },
     "execution_count": 33,
     "metadata": {},
     "output_type": "execute_result"
    }
   ],
   "source": [
    "long_str[5:]"
   ]
  },
  {
   "cell_type": "markdown",
   "id": "b4080c0f",
   "metadata": {},
   "source": [
    "##### Belirli bir yapı sorgulamak için \n",
    "> Str içerisindeki yapıyı aşağıdaki şekilde sorgulama yapılır. Burada dikkat etmemiz gereken şey içerideki yapının aynısını sorgulamak büyük küçük harfe karakter yapısı göz önüne alınmalı."
   ]
  },
  {
   "cell_type": "code",
   "execution_count": 37,
   "id": "f39bc1d3",
   "metadata": {},
   "outputs": [
    {
     "data": {
      "text/plain": [
       "True"
      ]
     },
     "execution_count": 37,
     "metadata": {},
     "output_type": "execute_result"
    }
   ],
   "source": [
    "\"Sakarya\" in long_str"
   ]
  },
  {
   "cell_type": "markdown",
   "id": "3b49abdd",
   "metadata": {},
   "source": [
    "## String (Karakter Dizi) Methodları \n",
    "> Method : çeşitli görevleri yerine getiren fonksiyon benzeri yapılardır. Diğer ifadesiyle sınıflar içerisinde tanımlanan fonksiyonlardır. Metodların bir kaçı aşağıdaki gibidir. \n",
    "\n",
    "### - len \n",
    "> Dizedeki karakter sayısını içeren bir Long değişkenidir."
   ]
  },
  {
   "cell_type": "code",
   "execution_count": 41,
   "id": "81cc6b38",
   "metadata": {},
   "outputs": [],
   "source": [
    "name = \"EmineBulut\""
   ]
  },
  {
   "cell_type": "code",
   "execution_count": 42,
   "id": "f9693b3f",
   "metadata": {},
   "outputs": [
    {
     "data": {
      "text/plain": [
       "10"
      ]
     },
     "execution_count": 42,
     "metadata": {},
     "output_type": "execute_result"
    }
   ],
   "source": [
    "len(name)"
   ]
  },
  {
   "cell_type": "markdown",
   "id": "ddf13ac3",
   "metadata": {},
   "source": [
    "### - upper() & - lower()\n",
    "> upper() methodu karakter büyütmek için kullanır. lower() methodu ise karaktrleri küçültmek için kullanılır."
   ]
  },
  {
   "cell_type": "code",
   "execution_count": 45,
   "id": "65c02f82",
   "metadata": {},
   "outputs": [
    {
     "data": {
      "text/plain": [
       "'EMINE'"
      ]
     },
     "execution_count": 45,
     "metadata": {},
     "output_type": "execute_result"
    }
   ],
   "source": [
    "\"emine\".upper()"
   ]
  },
  {
   "cell_type": "code",
   "execution_count": 46,
   "id": "6a55cbc9",
   "metadata": {},
   "outputs": [
    {
     "data": {
      "text/plain": [
       "'emine'"
      ]
     },
     "execution_count": 46,
     "metadata": {},
     "output_type": "execute_result"
    }
   ],
   "source": [
    "\"EMiNe\".lower()"
   ]
  },
  {
   "cell_type": "markdown",
   "id": "c9bd4539",
   "metadata": {},
   "source": [
    "### - replace()\n",
    "> Karakter değiştirmek için kullanılır. iki tane arüman girilmesi gerkir birinci argümana değiştirilmek istenek ifade, ikincisine ise değiştirmek istenilen ifade girilir."
   ]
  },
  {
   "cell_type": "code",
   "execution_count": 47,
   "id": "621d5419",
   "metadata": {},
   "outputs": [],
   "source": [
    "hi = \"Merhaba ben Emine\""
   ]
  },
  {
   "cell_type": "code",
   "execution_count": 48,
   "id": "c74db7b5",
   "metadata": {},
   "outputs": [
    {
     "data": {
      "text/plain": [
       "'Mirhaba bin Emini'"
      ]
     },
     "execution_count": 48,
     "metadata": {},
     "output_type": "execute_result"
    }
   ],
   "source": [
    "hi.replace(\"e\", \"i\")"
   ]
  },
  {
   "cell_type": "markdown",
   "id": "ce322eb8",
   "metadata": {},
   "source": [
    "### - split()\n",
    "> Bölme methodu. Ön tanımlı değeri boşluktur, herhangi bir argüman değeri girilmezse ön tanımlı değre göre bölme işlmei yapar."
   ]
  },
  {
   "cell_type": "code",
   "execution_count": 49,
   "id": "ee9dfad4",
   "metadata": {},
   "outputs": [
    {
     "data": {
      "text/plain": [
       "['Merhaba', 'ben', 'Emine']"
      ]
     },
     "execution_count": 49,
     "metadata": {},
     "output_type": "execute_result"
    }
   ],
   "source": [
    "\"Merhaba ben Emine\".split()"
   ]
  },
  {
   "cell_type": "markdown",
   "id": "12b45282",
   "metadata": {},
   "source": [
    "## Liste (list)\n",
    "> Elemanları sıralanabilir, güncellenebilir ayrıca her bir eleman liste içerisinde birden fazla tekrarlanabilir, kapsayıcıdır. Şimdi listenin özelliklerine bir göz atalım."
   ]
  },
  {
   "cell_type": "code",
   "execution_count": 6,
   "id": "25c9b645",
   "metadata": {},
   "outputs": [],
   "source": [
    "notes = [10, 50, 90, 40]"
   ]
  },
  {
   "cell_type": "markdown",
   "id": "6501277f",
   "metadata": {},
   "source": [
    ">  Yazdığımız değişkenin tipini öğrenmek için type'den yardım alırız"
   ]
  },
  {
   "cell_type": "code",
   "execution_count": 8,
   "id": "f4ebe348",
   "metadata": {},
   "outputs": [
    {
     "data": {
      "text/plain": [
       "list"
      ]
     },
     "execution_count": 8,
     "metadata": {},
     "output_type": "execute_result"
    }
   ],
   "source": [
    "type(notes)    "
   ]
  },
  {
   "cell_type": "code",
   "execution_count": 53,
   "id": "1fd87f79",
   "metadata": {},
   "outputs": [],
   "source": [
    "names = [\"a\" ,\"b\", \"c\"]"
   ]
  },
  {
   "cell_type": "markdown",
   "id": "60e6402c",
   "metadata": {},
   "source": [
    "##### Listenin kapsayıcılık özelliği\n",
    "> Listenin içerisindeki liste tek bir eleman olarak algılanır.\n",
    ">> + Örneğin listenin uzunluğuna \n",
    ">> + Sonrasında listenin içerisindeki listeye\n",
    ">> + En sonda ise listenin içerisindeki listenin 2. index'ine ulaşalım."
   ]
  },
  {
   "cell_type": "code",
   "execution_count": 59,
   "id": "b091538f",
   "metadata": {},
   "outputs": [],
   "source": [
    "not_nam = [1, 2, 5, \"a\", \"b\", [5, 6, 8], True]   "
   ]
  },
  {
   "cell_type": "code",
   "execution_count": 56,
   "id": "c6a2dc6e",
   "metadata": {},
   "outputs": [
    {
     "data": {
      "text/plain": [
       "7"
      ]
     },
     "execution_count": 56,
     "metadata": {},
     "output_type": "execute_result"
    }
   ],
   "source": [
    "len(not_nam)    # listenin uzunluğu "
   ]
  },
  {
   "cell_type": "code",
   "execution_count": 57,
   "id": "e02a5eef",
   "metadata": {},
   "outputs": [
    {
     "data": {
      "text/plain": [
       "[5, 6, 8]"
      ]
     },
     "execution_count": 57,
     "metadata": {},
     "output_type": "execute_result"
    }
   ],
   "source": [
    "not_nam[5]      # listenin içerisindeki listeye"
   ]
  },
  {
   "cell_type": "code",
   "execution_count": 58,
   "id": "d985ccfd",
   "metadata": {},
   "outputs": [
    {
     "data": {
      "text/plain": [
       "8"
      ]
     },
     "execution_count": 58,
     "metadata": {},
     "output_type": "execute_result"
    }
   ],
   "source": [
    "not_nam[5][2]   # listenin içerisindeki listenin 2. index'i"
   ]
  },
  {
   "cell_type": "markdown",
   "id": "5372c9ff",
   "metadata": {},
   "source": [
    "##### Değiştirilebilirlik maddesinin örneği aşağıdaki gibidir.\n",
    "> Notların içerisindeki değiştirmek istediğimiz elemana erişip daha sonrasında istediğimiz değeri atarız.\n"
   ]
  },
  {
   "cell_type": "code",
   "execution_count": 9,
   "id": "ff9fbcec",
   "metadata": {},
   "outputs": [],
   "source": [
    "notes[0] = 11"
   ]
  },
  {
   "cell_type": "code",
   "execution_count": 10,
   "id": "900a9ed4",
   "metadata": {},
   "outputs": [
    {
     "data": {
      "text/plain": [
       "[11, 50, 90, 40]"
      ]
     },
     "execution_count": 10,
     "metadata": {},
     "output_type": "execute_result"
    }
   ],
   "source": [
    "notes"
   ]
  },
  {
   "cell_type": "markdown",
   "id": "cde8b09f",
   "metadata": {},
   "source": [
    "##### Dilimleme şeklinde elemanlarına ulaşabiliriz.\n"
   ]
  },
  {
   "cell_type": "code",
   "execution_count": 11,
   "id": "b571ac01",
   "metadata": {},
   "outputs": [
    {
     "data": {
      "text/plain": [
       "[11, 50, 90]"
      ]
     },
     "execution_count": 11,
     "metadata": {},
     "output_type": "execute_result"
    }
   ],
   "source": [
    "notes[0:3]"
   ]
  },
  {
   "cell_type": "markdown",
   "id": "fd7367b6",
   "metadata": {},
   "source": [
    "## Liste (list) Methodları\n",
    "### - len()\n",
    "> Dizedeki karakter sayısını içeren bir Long değişkenidir."
   ]
  },
  {
   "cell_type": "code",
   "execution_count": 64,
   "id": "8d374c6d",
   "metadata": {},
   "outputs": [
    {
     "data": {
      "text/plain": [
       "4"
      ]
     },
     "execution_count": 64,
     "metadata": {},
     "output_type": "execute_result"
    }
   ],
   "source": [
    "len(notes)"
   ]
  },
  {
   "cell_type": "markdown",
   "id": "74db69ef",
   "metadata": {},
   "source": [
    "### - append()\n",
    "> Listelere eleman eklemek için kullanılır. Eklenen değer listenin sonuna eklenir."
   ]
  },
  {
   "cell_type": "code",
   "execution_count": 65,
   "id": "e6bb982e",
   "metadata": {},
   "outputs": [],
   "source": [
    "notes.append(100)"
   ]
  },
  {
   "cell_type": "code",
   "execution_count": 12,
   "id": "61d6664d",
   "metadata": {},
   "outputs": [
    {
     "data": {
      "text/plain": [
       "[11, 50, 90, 40]"
      ]
     },
     "execution_count": 12,
     "metadata": {},
     "output_type": "execute_result"
    }
   ],
   "source": [
    "notes"
   ]
  },
  {
   "cell_type": "markdown",
   "id": "49d30980",
   "metadata": {},
   "source": [
    "### - pop()\n",
    "> İndex'e göre eleman silmek için kullanılır. pop() methodunun çıktısı sildiği değeri gösterir."
   ]
  },
  {
   "cell_type": "code",
   "execution_count": 13,
   "id": "6ebf9c25",
   "metadata": {},
   "outputs": [
    {
     "data": {
      "text/plain": [
       "11"
      ]
     },
     "execution_count": 13,
     "metadata": {},
     "output_type": "execute_result"
    }
   ],
   "source": [
    "notes.pop(0)"
   ]
  },
  {
   "cell_type": "code",
   "execution_count": 14,
   "id": "3d8a7516",
   "metadata": {},
   "outputs": [
    {
     "data": {
      "text/plain": [
       "[50, 90, 40]"
      ]
     },
     "execution_count": 14,
     "metadata": {},
     "output_type": "execute_result"
    }
   ],
   "source": [
    "notes"
   ]
  },
  {
   "cell_type": "markdown",
   "id": "f2d9017b",
   "metadata": {},
   "source": [
    "### - insert()\n",
    "> İndex' e göre eleman ekler. İki tane argüman girilir birinci argüman index bilgisi ikinci argüman eklenmek isteyen değer.\n"
   ]
  },
  {
   "cell_type": "code",
   "execution_count": 15,
   "id": "66a67797",
   "metadata": {},
   "outputs": [],
   "source": [
    "notes.insert(3, 7)"
   ]
  },
  {
   "cell_type": "code",
   "execution_count": 16,
   "id": "962e6616",
   "metadata": {},
   "outputs": [
    {
     "data": {
      "text/plain": [
       "[50, 90, 40, 7]"
      ]
     },
     "execution_count": 16,
     "metadata": {},
     "output_type": "execute_result"
    }
   ],
   "source": [
    "notes"
   ]
  },
  {
   "cell_type": "markdown",
   "id": "899e79a8",
   "metadata": {},
   "source": [
    "## Sözlükler (Dictonary)\n",
    ">  Key - value değerlerine göre eleman tutar.Değitirilebilir, sırasızdır kapsayıcıdır. Şimdi sözlüğün özelliklerine bir göz atalım.\n",
    ">> + Sözlükler süslü parante kullanılarak Key - value değerlerine göre oluşturulur \n",
    ">> + Key değerlerine göre eleman çağırma işlemi yapılabilir"
   ]
  },
  {
   "cell_type": "code",
   "execution_count": 3,
   "id": "a865dc1e",
   "metadata": {},
   "outputs": [],
   "source": [
    "dictionary = {\"Ad\": \"Emine\",\n",
    "             \"Soyad\": \"Bulut\",\n",
    "             \"Yas\": 23}"
   ]
  },
  {
   "cell_type": "code",
   "execution_count": 4,
   "id": "cf011bf2",
   "metadata": {},
   "outputs": [
    {
     "data": {
      "text/plain": [
       "{'Ad': 'Emine', 'Soyad': 'Bulut', 'Yas': 23}"
      ]
     },
     "execution_count": 4,
     "metadata": {},
     "output_type": "execute_result"
    }
   ],
   "source": [
    "dictionary "
   ]
  },
  {
   "cell_type": "code",
   "execution_count": 5,
   "id": "942d2778",
   "metadata": {},
   "outputs": [
    {
     "data": {
      "text/plain": [
       "'Emine'"
      ]
     },
     "execution_count": 5,
     "metadata": {},
     "output_type": "execute_result"
    }
   ],
   "source": [
    "dictionary[\"Ad\"]"
   ]
  },
  {
   "cell_type": "markdown",
   "id": "7ed380a3",
   "metadata": {},
   "source": [
    "##### Sözlüğün kapsayıcılık özelliği\n",
    "> + Sözlüğün içerisindeki listeye\n",
    "> + Sonrada ise sözlüğün içerisindeki listenin 2. index'ine ulaşalım."
   ]
  },
  {
   "cell_type": "code",
   "execution_count": 6,
   "id": "1039b74f",
   "metadata": {},
   "outputs": [],
   "source": [
    "dic = {\"Ad\": [\"Emine\", \"Elif\", \"Ali\", \"Mehmet\"],\n",
    "             \"Soyad\": [\"Bulut\", \"Al\", \"Çalkılıç\", \"Kuş\"],\n",
    "             \"Yas\": [23, 21, 30, 25]}"
   ]
  },
  {
   "cell_type": "code",
   "execution_count": 7,
   "id": "9001def4",
   "metadata": {},
   "outputs": [
    {
     "data": {
      "text/plain": [
       "{'Ad': ['Emine', 'Elif', 'Ali', 'Mehmet'],\n",
       " 'Soyad': ['Bulut', 'Al', 'Çalkılıç', 'Kuş'],\n",
       " 'Yas': [23, 21, 30, 25]}"
      ]
     },
     "execution_count": 7,
     "metadata": {},
     "output_type": "execute_result"
    }
   ],
   "source": [
    "dic"
   ]
  },
  {
   "cell_type": "code",
   "execution_count": 8,
   "id": "2389d043",
   "metadata": {},
   "outputs": [
    {
     "data": {
      "text/plain": [
       "'Çalkılıç'"
      ]
     },
     "execution_count": 8,
     "metadata": {},
     "output_type": "execute_result"
    }
   ],
   "source": [
    "dic[\"Soyad\"][2]"
   ]
  },
  {
   "cell_type": "markdown",
   "id": "49c44618",
   "metadata": {},
   "source": [
    "##### Anahtar kelimeyi sorgulamak için \n",
    "> Burada dikkat etmemiz gereken şey içerideki yapının aynısını sorgulamak büyük küçük harfe karakter yapısı göz önüne alınmalı."
   ]
  },
  {
   "cell_type": "code",
   "execution_count": 9,
   "id": "c988dccf",
   "metadata": {},
   "outputs": [
    {
     "data": {
      "text/plain": [
       "True"
      ]
     },
     "execution_count": 9,
     "metadata": {},
     "output_type": "execute_result"
    }
   ],
   "source": [
    "\"Yas\" in dic"
   ]
  },
  {
   "cell_type": "markdown",
   "id": "5db52a71",
   "metadata": {},
   "source": [
    "##### Key' göre value'ya erişmek\n",
    "> İki farklı yöntem vardır"
   ]
  },
  {
   "cell_type": "code",
   "execution_count": 10,
   "id": "c3c16793",
   "metadata": {},
   "outputs": [
    {
     "data": {
      "text/plain": [
       "[23, 21, 30, 25]"
      ]
     },
     "execution_count": 10,
     "metadata": {},
     "output_type": "execute_result"
    }
   ],
   "source": [
    "dic[\"Yas\"]"
   ]
  },
  {
   "cell_type": "code",
   "execution_count": 11,
   "id": "8800c0ee",
   "metadata": {},
   "outputs": [
    {
     "data": {
      "text/plain": [
       "[23, 21, 30, 25]"
      ]
     },
     "execution_count": 11,
     "metadata": {},
     "output_type": "execute_result"
    }
   ],
   "source": [
    "dic.get(\"Yas\")"
   ]
  },
  {
   "cell_type": "markdown",
   "id": "c626ad1f",
   "metadata": {},
   "source": [
    "##### Değiştirilebilirlik maddesinin örneği aşağıdaki gibidir.\n",
    "> dic içerisindeki value değerini değiştirmek için istediğimiz elemana erişip daha sonrasında istediğimiz value değerlerini atarız."
   ]
  },
  {
   "cell_type": "code",
   "execution_count": 12,
   "id": "87ee25bf",
   "metadata": {},
   "outputs": [],
   "source": [
    "dic[\"Yas\"] = [\"yirmialti\", 25, 20, 30 ]"
   ]
  },
  {
   "cell_type": "code",
   "execution_count": 13,
   "id": "02bbadcb",
   "metadata": {},
   "outputs": [
    {
     "data": {
      "text/plain": [
       "{'Ad': ['Emine', 'Elif', 'Ali', 'Mehmet'],\n",
       " 'Soyad': ['Bulut', 'Al', 'Çalkılıç', 'Kuş'],\n",
       " 'Yas': ['yirmialti', 25, 20, 30]}"
      ]
     },
     "execution_count": 13,
     "metadata": {},
     "output_type": "execute_result"
    }
   ],
   "source": [
    "dic"
   ]
  },
  {
   "cell_type": "markdown",
   "id": "300dc544",
   "metadata": {},
   "source": [
    "##### İstenilen değere erişim sağlamak\n",
    ">> + key'lere erişim sağlamak\n",
    ">> + value'lere erişim sağlamak \n",
    ">> + Sözlüğün çiftlerine erişim sağlamak"
   ]
  },
  {
   "cell_type": "code",
   "execution_count": 14,
   "id": "11ac06ce",
   "metadata": {},
   "outputs": [
    {
     "data": {
      "text/plain": [
       "dict_keys(['Ad', 'Soyad', 'Yas'])"
      ]
     },
     "execution_count": 14,
     "metadata": {},
     "output_type": "execute_result"
    }
   ],
   "source": [
    "dic.keys()"
   ]
  },
  {
   "cell_type": "code",
   "execution_count": 15,
   "id": "29f27684",
   "metadata": {},
   "outputs": [
    {
     "data": {
      "text/plain": [
       "dict_values([['Emine', 'Elif', 'Ali', 'Mehmet'], ['Bulut', 'Al', 'Çalkılıç', 'Kuş'], ['yirmialti', 25, 20, 30]])"
      ]
     },
     "execution_count": 15,
     "metadata": {},
     "output_type": "execute_result"
    }
   ],
   "source": [
    "dic.values()"
   ]
  },
  {
   "cell_type": "code",
   "execution_count": 16,
   "id": "a35cf1b5",
   "metadata": {},
   "outputs": [
    {
     "data": {
      "text/plain": [
       "dict_items([('Ad', ['Emine', 'Elif', 'Ali', 'Mehmet']), ('Soyad', ['Bulut', 'Al', 'Çalkılıç', 'Kuş']), ('Yas', ['yirmialti', 25, 20, 30])])"
      ]
     },
     "execution_count": 16,
     "metadata": {},
     "output_type": "execute_result"
    }
   ],
   "source": [
    "dic.items()"
   ]
  },
  {
   "cell_type": "markdown",
   "id": "eb2f9f49",
   "metadata": {},
   "source": [
    "##### Key - value değerlerini güncelleme & yeni değer ekleme\n",
    "> Update yöntemi ile güncellemek istediğimiz key - value değerlerini giriyoruz. \n",
    ">> Güncellemek istediğimiz değer sözlük yapısının içerisinde yoksa yeniden atama işlemi gerçekleşir."
   ]
  },
  {
   "cell_type": "code",
   "execution_count": 17,
   "id": "521a7942",
   "metadata": {},
   "outputs": [],
   "source": [
    "dic.update({\"Yas\": [11, 21, 31 ,41]})"
   ]
  },
  {
   "cell_type": "code",
   "execution_count": 18,
   "id": "5d005259",
   "metadata": {},
   "outputs": [
    {
     "data": {
      "text/plain": [
       "{'Ad': ['Emine', 'Elif', 'Ali', 'Mehmet'],\n",
       " 'Soyad': ['Bulut', 'Al', 'Çalkılıç', 'Kuş'],\n",
       " 'Yas': [11, 21, 31, 41]}"
      ]
     },
     "execution_count": 18,
     "metadata": {},
     "output_type": "execute_result"
    }
   ],
   "source": [
    "dic"
   ]
  },
  {
   "cell_type": "code",
   "execution_count": 19,
   "id": "3d7fde09",
   "metadata": {},
   "outputs": [],
   "source": [
    "dic.update({\"Ders\": [\"Math\",\"Fiz\", \"Kim\", \"Coğ\"]})"
   ]
  },
  {
   "cell_type": "code",
   "execution_count": 20,
   "id": "99d8d5e3",
   "metadata": {
    "scrolled": true
   },
   "outputs": [
    {
     "data": {
      "text/plain": [
       "{'Ad': ['Emine', 'Elif', 'Ali', 'Mehmet'],\n",
       " 'Soyad': ['Bulut', 'Al', 'Çalkılıç', 'Kuş'],\n",
       " 'Yas': [11, 21, 31, 41],\n",
       " 'Ders': ['Math', 'Fiz', 'Kim', 'Coğ']}"
      ]
     },
     "execution_count": 20,
     "metadata": {},
     "output_type": "execute_result"
    }
   ],
   "source": [
    "dic"
   ]
  },
  {
   "cell_type": "markdown",
   "id": "b69a36c1",
   "metadata": {},
   "source": [
    "##### Sözlükte silme işlemleri\n",
    "> +  pop(): Metodunu argümansız bir şekilde kullanamıyoruz. Yani pop metodunun parantezi içine silmek istediğimi sözlük öğesi belirtmeliyiz.\n",
    "> + clear(): Bu kelime İngilizce’de “temizlemek” anlamına gelir. Görevi sözlükteki öğeleri temizlemektir. Yani içi dolu bir sözlüğü bu metot yardımıyla tamamen boşaltabiliriz.\n",
    "> + del: Eğer siz sözlüğü ortadan kaldırmak isterseniz “del” adlı bir parçacıktan yararlanmanız gerekir. Sözlüğü bekkeltren tamamen kaldırır."
   ]
  },
  {
   "cell_type": "code",
   "execution_count": 22,
   "id": "5a958afa",
   "metadata": {},
   "outputs": [
    {
     "data": {
      "text/plain": [
       "['Math', 'Fiz', 'Kim', 'Coğ']"
      ]
     },
     "execution_count": 22,
     "metadata": {},
     "output_type": "execute_result"
    }
   ],
   "source": [
    "dic.pop(\"Ders\")"
   ]
  },
  {
   "cell_type": "code",
   "execution_count": 23,
   "id": "37217c69",
   "metadata": {},
   "outputs": [
    {
     "data": {
      "text/plain": [
       "{'Ad': ['Emine', 'Elif', 'Ali', 'Mehmet'],\n",
       " 'Soyad': ['Bulut', 'Al', 'Çalkılıç', 'Kuş'],\n",
       " 'Yas': [11, 21, 31, 41]}"
      ]
     },
     "execution_count": 23,
     "metadata": {},
     "output_type": "execute_result"
    }
   ],
   "source": [
    "dic"
   ]
  },
  {
   "cell_type": "code",
   "execution_count": 24,
   "id": "36d86d15",
   "metadata": {},
   "outputs": [],
   "source": [
    "dic.clear()"
   ]
  },
  {
   "cell_type": "code",
   "execution_count": 25,
   "id": "04524550",
   "metadata": {},
   "outputs": [
    {
     "data": {
      "text/plain": [
       "{}"
      ]
     },
     "execution_count": 25,
     "metadata": {},
     "output_type": "execute_result"
    }
   ],
   "source": [
    "dic"
   ]
  },
  {
   "cell_type": "code",
   "execution_count": 26,
   "id": "7526bcef",
   "metadata": {},
   "outputs": [],
   "source": [
    "del dic"
   ]
  },
  {
   "cell_type": "code",
   "execution_count": 28,
   "id": "17269677",
   "metadata": {},
   "outputs": [
    {
     "ename": "NameError",
     "evalue": "name 'dic' is not defined",
     "output_type": "error",
     "traceback": [
      "\u001b[1;31m---------------------------------------------------------------------------\u001b[0m",
      "\u001b[1;31mNameError\u001b[0m                                 Traceback (most recent call last)",
      "Input \u001b[1;32mIn [28]\u001b[0m, in \u001b[0;36m<cell line: 1>\u001b[1;34m()\u001b[0m\n\u001b[1;32m----> 1\u001b[0m \u001b[43mdic\u001b[49m\n",
      "\u001b[1;31mNameError\u001b[0m: name 'dic' is not defined"
     ]
    }
   ],
   "source": [
    "dic   # sözlüğü bellekten tamamen kaldırdığı için name 'dic' is not defined uyarısını aldık."
   ]
  },
  {
   "cell_type": "markdown",
   "id": "8add89a3",
   "metadata": {},
   "source": [
    "## Demet (Tuple)\n",
    ">  Tuple'ler listelerin değişime kapalı kardeşidir .Değiştirilemez, sıralısır, kapsayıcıdır. Şimdi tuple'nin özelliklerine bir göz atalım.\n",
    ">> + Tuple normal parante kullanılarak oluşturulur \n",
    ">> + Sıralı olması bize index seçimi imkanı veriyor."
   ]
  },
  {
   "cell_type": "code",
   "execution_count": 63,
   "id": "ae68a841",
   "metadata": {},
   "outputs": [],
   "source": [
    "t = (\"Emine\", \"Bulut\", 23)"
   ]
  },
  {
   "cell_type": "code",
   "execution_count": 64,
   "id": "776d53c6",
   "metadata": {},
   "outputs": [
    {
     "data": {
      "text/plain": [
       "tuple"
      ]
     },
     "execution_count": 64,
     "metadata": {},
     "output_type": "execute_result"
    }
   ],
   "source": [
    "type(t)    # tip bilgisi sorgulama"
   ]
  },
  {
   "cell_type": "code",
   "execution_count": 65,
   "id": "753f4960",
   "metadata": {},
   "outputs": [
    {
     "data": {
      "text/plain": [
       "23"
      ]
     },
     "execution_count": 65,
     "metadata": {},
     "output_type": "execute_result"
    }
   ],
   "source": [
    "t[2]       # index seçimi ile sorgulama"
   ]
  },
  {
   "cell_type": "code",
   "execution_count": 66,
   "id": "49dfc444",
   "metadata": {},
   "outputs": [
    {
     "data": {
      "text/plain": [
       "('Emine',)"
      ]
     },
     "execution_count": 66,
     "metadata": {},
     "output_type": "execute_result"
    }
   ],
   "source": [
    "t[0:2]     # Dilimleme işlemi "
   ]
  },
  {
   "cell_type": "code",
   "execution_count": 67,
   "id": "fa8ab3e6",
   "metadata": {},
   "outputs": [
    {
     "ename": "TypeError",
     "evalue": "'tuple' object does not support item assignment",
     "output_type": "error",
     "traceback": [
      "\u001b[1;31m---------------------------------------------------------------------------\u001b[0m",
      "\u001b[1;31mTypeError\u001b[0m                                 Traceback (most recent call last)",
      "Input \u001b[1;32mIn [67]\u001b[0m, in \u001b[0;36m<cell line: 1>\u001b[1;34m()\u001b[0m\n\u001b[1;32m----> 1\u001b[0m t[\u001b[38;5;241m0\u001b[39m] \u001b[38;5;241m=\u001b[39m \u001b[38;5;124m\"\u001b[39m\u001b[38;5;124mElif\u001b[39m\u001b[38;5;124m\"\u001b[39m\n",
      "\u001b[1;31mTypeError\u001b[0m: 'tuple' object does not support item assignment"
     ]
    }
   ],
   "source": [
    "t[0] = \"Elif\"     # değiştirilemez ifadesi "
   ]
  },
  {
   "cell_type": "markdown",
   "id": "d83b8487",
   "metadata": {},
   "source": [
    "## Küme (Set)\n",
    "> Değiştirilemez, sırasız + eşsiz, kapsayıcıdır. Şimdi set'in özelliklerine bir göz atalım.\n",
    ">> + Hız gerektiren ve küme işlemleri yapmak istediğimizde kullanım sağlanır\n",
    ">> + Set() fonksiyonuyla oluşturulur. Liste üzerinden oluşturulur.\n",
    "\n",
    "###### difference() : İki kümenin farkı\n"
   ]
  },
  {
   "cell_type": "code",
   "execution_count": 70,
   "id": "521d9924",
   "metadata": {},
   "outputs": [],
   "source": [
    "set1 = set([1, 3, 5])"
   ]
  },
  {
   "cell_type": "code",
   "execution_count": 71,
   "id": "fbdfdd9d",
   "metadata": {},
   "outputs": [],
   "source": [
    "set2 = set([1, 2, 3])"
   ]
  },
  {
   "cell_type": "markdown",
   "id": "8c04a7df",
   "metadata": {},
   "source": [
    "> + Set1 de olup set2 de olmayan\n",
    "> + Set2 de olup set1 de olmayan"
   ]
  },
  {
   "cell_type": "code",
   "execution_count": 72,
   "id": "737f44d2",
   "metadata": {},
   "outputs": [
    {
     "data": {
      "text/plain": [
       "{5}"
      ]
     },
     "execution_count": 72,
     "metadata": {},
     "output_type": "execute_result"
    }
   ],
   "source": [
    "set1.difference(set2)"
   ]
  },
  {
   "cell_type": "code",
   "execution_count": 73,
   "id": "71cd1953",
   "metadata": {},
   "outputs": [
    {
     "data": {
      "text/plain": [
       "{2}"
      ]
     },
     "execution_count": 73,
     "metadata": {},
     "output_type": "execute_result"
    }
   ],
   "source": [
    "set2.difference(set1)"
   ]
  },
  {
   "cell_type": "markdown",
   "id": "325896ff",
   "metadata": {},
   "source": [
    "##### symmetric_difference() : İki kümede de birbirlerine göre olmayanlar\n",
    "> tersinin de birbirini doğrulması gerekiyor."
   ]
  },
  {
   "cell_type": "code",
   "execution_count": 74,
   "id": "0d8e9403",
   "metadata": {},
   "outputs": [
    {
     "data": {
      "text/plain": [
       "{2, 5}"
      ]
     },
     "execution_count": 74,
     "metadata": {},
     "output_type": "execute_result"
    }
   ],
   "source": [
    "set1.symmetric_difference(set2)"
   ]
  },
  {
   "cell_type": "code",
   "execution_count": 75,
   "id": "b514dfeb",
   "metadata": {},
   "outputs": [
    {
     "data": {
      "text/plain": [
       "{2, 5}"
      ]
     },
     "execution_count": 75,
     "metadata": {},
     "output_type": "execute_result"
    }
   ],
   "source": [
    "set2.symmetric_difference(set1)"
   ]
  },
  {
   "cell_type": "markdown",
   "id": "8d15f7f6",
   "metadata": {},
   "source": [
    "##### intersection() : İki kümenin kesişimi \n",
    "> Tersinin de birbirini doğrulaması gerekiyor.\n"
   ]
  },
  {
   "cell_type": "code",
   "execution_count": 76,
   "id": "92b1405a",
   "metadata": {},
   "outputs": [],
   "source": [
    "set1 = set([1, 3, 5])"
   ]
  },
  {
   "cell_type": "code",
   "execution_count": 77,
   "id": "2cdcf2f8",
   "metadata": {},
   "outputs": [],
   "source": [
    "set2 = set([1, 2, 3])"
   ]
  },
  {
   "cell_type": "code",
   "execution_count": 78,
   "id": "d7a0c764",
   "metadata": {},
   "outputs": [
    {
     "data": {
      "text/plain": [
       "{1, 3}"
      ]
     },
     "execution_count": 78,
     "metadata": {},
     "output_type": "execute_result"
    }
   ],
   "source": [
    "set1.intersection(set2)"
   ]
  },
  {
   "cell_type": "code",
   "execution_count": 79,
   "id": "3b708539",
   "metadata": {},
   "outputs": [
    {
     "data": {
      "text/plain": [
       "{1, 3}"
      ]
     },
     "execution_count": 79,
     "metadata": {},
     "output_type": "execute_result"
    }
   ],
   "source": [
    "set2.intersection(set1)"
   ]
  },
  {
   "cell_type": "markdown",
   "id": "d489d625",
   "metadata": {},
   "source": [
    "##### Matemetiksel operasyonlarla da gerçekleştirebiliriz\n",
    "> + İki kümenin kesişimi\n",
    "> + İki kümenin farkı "
   ]
  },
  {
   "cell_type": "code",
   "execution_count": 80,
   "id": "3862adc7",
   "metadata": {},
   "outputs": [
    {
     "data": {
      "text/plain": [
       "{1, 3}"
      ]
     },
     "execution_count": 80,
     "metadata": {},
     "output_type": "execute_result"
    }
   ],
   "source": [
    "set1 & set2"
   ]
  },
  {
   "cell_type": "code",
   "execution_count": 81,
   "id": "7813e3a1",
   "metadata": {},
   "outputs": [
    {
     "data": {
      "text/plain": [
       "{5}"
      ]
     },
     "execution_count": 81,
     "metadata": {},
     "output_type": "execute_result"
    }
   ],
   "source": [
    "set1 - set2"
   ]
  },
  {
   "cell_type": "markdown",
   "id": "c6858897",
   "metadata": {},
   "source": [
    "##### union() : İki kümenin birleşimi\n",
    "> Terisinde de bir değişiklik olmaz."
   ]
  },
  {
   "cell_type": "code",
   "execution_count": 82,
   "id": "bcec4ff1",
   "metadata": {},
   "outputs": [
    {
     "data": {
      "text/plain": [
       "{1, 2, 3, 5}"
      ]
     },
     "execution_count": 82,
     "metadata": {},
     "output_type": "execute_result"
    }
   ],
   "source": [
    "set1.union(set2)"
   ]
  },
  {
   "cell_type": "code",
   "execution_count": 83,
   "id": "fae7d154",
   "metadata": {},
   "outputs": [
    {
     "data": {
      "text/plain": [
       "{1, 2, 3, 5}"
      ]
     },
     "execution_count": 83,
     "metadata": {},
     "output_type": "execute_result"
    }
   ],
   "source": [
    "set2.union(set1)"
   ]
  },
  {
   "cell_type": "markdown",
   "id": "342ae94a",
   "metadata": {},
   "source": [
    "##### isdisjoint() : İki kümenin kesişimi boş mu ?\n",
    "> + bir ifadenin başında 'is' eki varsa sonucun True, False gelmesini bekleriz."
   ]
  },
  {
   "cell_type": "code",
   "execution_count": 87,
   "id": "5ab1ebd9",
   "metadata": {},
   "outputs": [],
   "source": [
    "set1 = set([7, 8, 9])"
   ]
  },
  {
   "cell_type": "code",
   "execution_count": 88,
   "id": "2651f223",
   "metadata": {},
   "outputs": [],
   "source": [
    "set2 = set([5, 6, 7, 8, 9, 10])"
   ]
  },
  {
   "cell_type": "code",
   "execution_count": 89,
   "id": "857538bb",
   "metadata": {},
   "outputs": [
    {
     "data": {
      "text/plain": [
       "False"
      ]
     },
     "execution_count": 89,
     "metadata": {},
     "output_type": "execute_result"
    }
   ],
   "source": [
    "set1.isdisjoint(set2)"
   ]
  },
  {
   "cell_type": "code",
   "execution_count": 90,
   "id": "8b8cae30",
   "metadata": {},
   "outputs": [
    {
     "data": {
      "text/plain": [
       "False"
      ]
     },
     "execution_count": 90,
     "metadata": {},
     "output_type": "execute_result"
    }
   ],
   "source": [
    "set2.isdisjoint(set1)"
   ]
  },
  {
   "cell_type": "markdown",
   "id": "ac5536c4",
   "metadata": {},
   "source": [
    "##### issubset() : Bir küme diğer kümenin alt kümesi mi ?"
   ]
  },
  {
   "cell_type": "code",
   "execution_count": 91,
   "id": "9cda0862",
   "metadata": {},
   "outputs": [
    {
     "data": {
      "text/plain": [
       "True"
      ]
     },
     "execution_count": 91,
     "metadata": {},
     "output_type": "execute_result"
    }
   ],
   "source": [
    "set1.issubset(set2)"
   ]
  },
  {
   "cell_type": "code",
   "execution_count": 92,
   "id": "ac021c4b",
   "metadata": {},
   "outputs": [
    {
     "data": {
      "text/plain": [
       "False"
      ]
     },
     "execution_count": 92,
     "metadata": {},
     "output_type": "execute_result"
    }
   ],
   "source": [
    "set2.issubset(set1)"
   ]
  },
  {
   "cell_type": "markdown",
   "id": "d9457c0f",
   "metadata": {},
   "source": [
    "##### issuperset() : Bir küme diğer kümeyi kapsıyor mu ?"
   ]
  },
  {
   "cell_type": "code",
   "execution_count": 93,
   "id": "94005de7",
   "metadata": {},
   "outputs": [
    {
     "data": {
      "text/plain": [
       "False"
      ]
     },
     "execution_count": 93,
     "metadata": {},
     "output_type": "execute_result"
    }
   ],
   "source": [
    "set1.issuperset(set2)"
   ]
  },
  {
   "cell_type": "code",
   "execution_count": 95,
   "id": "337b561c",
   "metadata": {},
   "outputs": [
    {
     "data": {
      "text/plain": [
       "True"
      ]
     },
     "execution_count": 95,
     "metadata": {},
     "output_type": "execute_result"
    }
   ],
   "source": [
    "set2.issuperset(set1)"
   ]
  }
 ],
 "metadata": {
  "kernelspec": {
   "display_name": "Python 3 (ipykernel)",
   "language": "python",
   "name": "python3"
  },
  "language_info": {
   "codemirror_mode": {
    "name": "ipython",
    "version": 3
   },
   "file_extension": ".py",
   "mimetype": "text/x-python",
   "name": "python",
   "nbconvert_exporter": "python",
   "pygments_lexer": "ipython3",
   "version": "3.9.12"
  }
 },
 "nbformat": 4,
 "nbformat_minor": 5
}
