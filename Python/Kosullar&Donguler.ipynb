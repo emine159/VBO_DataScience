{
 "cells": [
  {
   "cell_type": "markdown",
   "id": "7e2255b8",
   "metadata": {},
   "source": [
    "## Koşullar\n",
    "> Bir program esnasında kontrolu sağlayan ve programaların belli bir kurrallara yada koşullara göre nansıl haraket etmesi gerektiğini bildiren yapılardır. \n",
    "> + if :  kelime anlamı olarak eğer anlamına gelir ve koşul olarak sunulan kavramın sonucu boolean veri türünde true bir değer döndürürse yapı içerisine girerek içerisindeki kod bloklarını çalıştırır.\n",
    "> + Elif : Bir durumun sağlanması birden fazla koşula bağlıysa kullanılır.\n",
    "> + Else :  yapısı ise boolean türünde false değeri döndüğü zaman çalıştırılır."
   ]
  },
  {
   "cell_type": "code",
   "execution_count": 1,
   "id": "7160d99b",
   "metadata": {},
   "outputs": [
    {
     "name": "stdout",
     "output_type": "stream",
     "text": [
      "something\n"
     ]
    }
   ],
   "source": [
    "# İfade True iste döngü çalışır ekrana çıktı verir.\n",
    "\n",
    "if 1 == 1:\n",
    "    print(\"something\")"
   ]
  },
  {
   "cell_type": "code",
   "execution_count": 3,
   "id": "23eb7db0",
   "metadata": {},
   "outputs": [],
   "source": [
    "# İfade False ise ifade ekrana çıktı vermez.\n",
    "\n",
    "if 1 == 2:\n",
    "    print(\"something\")"
   ]
  },
  {
   "cell_type": "code",
   "execution_count": 4,
   "id": "0caea2c5",
   "metadata": {},
   "outputs": [],
   "source": [
    "number = 11\n",
    "\n",
    "if number ==10:\n",
    "    print(\"number is 10\")"
   ]
  },
  {
   "cell_type": "code",
   "execution_count": 6,
   "id": "b688e7c0",
   "metadata": {},
   "outputs": [
    {
     "name": "stdout",
     "output_type": "stream",
     "text": [
      "number is 10\n"
     ]
    }
   ],
   "source": [
    "number = 10\n",
    "\n",
    "if number ==10:\n",
    "    print(\"number is 10\")"
   ]
  },
  {
   "cell_type": "markdown",
   "id": "49093e4c",
   "metadata": {},
   "source": [
    "> İşlemler kendini tekrar etmeye başladığında fonksiyon yazılmalıdır.\n"
   ]
  },
  {
   "cell_type": "code",
   "execution_count": 9,
   "id": "271a0c96",
   "metadata": {},
   "outputs": [
    {
     "name": "stdout",
     "output_type": "stream",
     "text": [
      "number is not 10\n"
     ]
    }
   ],
   "source": [
    "def number_check(number):\n",
    "    if number == 10:\n",
    "        print(\"number is 10\")\n",
    "    else:\n",
    "        print(\"number is not 10\")\n",
    "    \n",
    "number_check(12)    "
   ]
  },
  {
   "cell_type": "code",
   "execution_count": 10,
   "id": "5b2c565c",
   "metadata": {},
   "outputs": [
    {
     "name": "stdout",
     "output_type": "stream",
     "text": [
      "greate than 10\n"
     ]
    }
   ],
   "source": [
    "def number_check(number):\n",
    "    if number > 10:\n",
    "        print(\"greate than 10\")\n",
    "    elif  number < 10:\n",
    "        print(\"less than 10\")\n",
    "    else:\n",
    "        print(\"equal to 10\")\n",
    "    \n",
    "number_check(12)"
   ]
  },
  {
   "cell_type": "markdown",
   "id": "fef58dee",
   "metadata": {},
   "source": [
    "## Döngüler\n",
    "##### For döngüsü\n",
    "> Her bir elemena erişmek istediğimizde for döngüsü kullanmamız gerekli."
   ]
  },
  {
   "cell_type": "code",
   "execution_count": 11,
   "id": "765dd12e",
   "metadata": {},
   "outputs": [],
   "source": [
    "students = [\"Emine\", \"Ali\", \"Veli\", \"Ayşe\"]"
   ]
  },
  {
   "cell_type": "code",
   "execution_count": 12,
   "id": "10c0eb06",
   "metadata": {},
   "outputs": [
    {
     "data": {
      "text/plain": [
       "'Veli'"
      ]
     },
     "execution_count": 12,
     "metadata": {},
     "output_type": "execute_result"
    }
   ],
   "source": [
    "students[2]"
   ]
  },
  {
   "cell_type": "markdown",
   "id": "725d5f28",
   "metadata": {},
   "source": [
    "> + Her bir elemanı ekrana yazdırmak"
   ]
  },
  {
   "cell_type": "code",
   "execution_count": 13,
   "id": "59f9cf8c",
   "metadata": {
    "scrolled": false
   },
   "outputs": [
    {
     "name": "stdout",
     "output_type": "stream",
     "text": [
      "Emine\n",
      "Ali\n",
      "Veli\n",
      "Ayşe\n"
     ]
    }
   ],
   "source": [
    "for student in students:\n",
    "    print(student)"
   ]
  },
  {
   "cell_type": "markdown",
   "id": "9a10975b",
   "metadata": {},
   "source": [
    "> + str yapıdaki her bir elemanı büyütmek."
   ]
  },
  {
   "cell_type": "code",
   "execution_count": 14,
   "id": "ce022869",
   "metadata": {},
   "outputs": [
    {
     "name": "stdout",
     "output_type": "stream",
     "text": [
      "EMINE\n",
      "ALI\n",
      "VELI\n",
      "AYŞE\n"
     ]
    }
   ],
   "source": [
    "for student in students:\n",
    "    print(student.upper())"
   ]
  },
  {
   "cell_type": "markdown",
   "id": "3069efc4",
   "metadata": {},
   "source": [
    "###### Örnek Döngü\n",
    "> + Her bir maaşı yazdırmak \n",
    "> + % 20 zam uygulaması\n",
    "> + çıktıları int çevirme"
   ]
  },
  {
   "cell_type": "code",
   "execution_count": 15,
   "id": "654e2266",
   "metadata": {},
   "outputs": [],
   "source": [
    "salaries = [1000, 2000, 3000, 4000, 5000]"
   ]
  },
  {
   "cell_type": "code",
   "execution_count": 16,
   "id": "f19b097b",
   "metadata": {},
   "outputs": [
    {
     "name": "stdout",
     "output_type": "stream",
     "text": [
      "1000\n",
      "2000\n",
      "3000\n",
      "4000\n",
      "5000\n"
     ]
    }
   ],
   "source": [
    "for salary in salaries: \n",
    "    print(salary)"
   ]
  },
  {
   "cell_type": "code",
   "execution_count": 17,
   "id": "06b03955",
   "metadata": {},
   "outputs": [
    {
     "name": "stdout",
     "output_type": "stream",
     "text": [
      "1200.0\n",
      "2400.0\n",
      "3600.0\n",
      "4800.0\n",
      "6000.0\n"
     ]
    }
   ],
   "source": [
    "for salary in salaries: \n",
    "    print(salary * 20 / 100 + salary)"
   ]
  },
  {
   "cell_type": "code",
   "execution_count": 19,
   "id": "f50e26a7",
   "metadata": {},
   "outputs": [
    {
     "name": "stdout",
     "output_type": "stream",
     "text": [
      "1200\n",
      "2400\n",
      "3600\n",
      "4800\n",
      "6000\n"
     ]
    }
   ],
   "source": [
    "for salary in salaries: \n",
    "    print (int(salary * 20 / 100 + salary))"
   ]
  },
  {
   "cell_type": "markdown",
   "id": "8785cd24",
   "metadata": {},
   "source": [
    "> + Tekrara düşmemek için fonksiyon ile zam oranını sonradan belirleme"
   ]
  },
  {
   "cell_type": "code",
   "execution_count": 29,
   "id": "0c4f546d",
   "metadata": {},
   "outputs": [
    {
     "data": {
      "text/plain": [
       "1440"
      ]
     },
     "execution_count": 29,
     "metadata": {},
     "output_type": "execute_result"
    }
   ],
   "source": [
    "def new_salary(salary, rate):\n",
    "    return int(salary * rate / 100 + salary)\n",
    "\n",
    "new_salary(1200, 20)"
   ]
  },
  {
   "cell_type": "markdown",
   "id": "f9b4f71f",
   "metadata": {},
   "source": [
    "> + Listediki tüm maaşlara zam yapmak"
   ]
  },
  {
   "cell_type": "code",
   "execution_count": 30,
   "id": "4c57b072",
   "metadata": {},
   "outputs": [
    {
     "name": "stdout",
     "output_type": "stream",
     "text": [
      "1100\n",
      "2200\n",
      "3300\n",
      "4400\n",
      "5500\n"
     ]
    }
   ],
   "source": [
    "for salary in salaries:\n",
    "    print(new_salary(salary, 10))"
   ]
  },
  {
   "cell_type": "markdown",
   "id": "f6dc3da2",
   "metadata": {},
   "source": [
    "> + Maaşı 3000 yukarısında olanlar afarklı bir zam, 3000'in aşağısında olanlara farklı bir zam uygulama"
   ]
  },
  {
   "cell_type": "code",
   "execution_count": 33,
   "id": "ebdb8093",
   "metadata": {},
   "outputs": [
    {
     "name": "stdout",
     "output_type": "stream",
     "text": [
      "1200.0\n",
      "2400.0\n",
      "3300.0\n",
      "4400.0\n",
      "5500.0\n"
     ]
    }
   ],
   "source": [
    "for salary in salaries:\n",
    "    \n",
    "    if salary < 3000:\n",
    "        print(salary * 20 / 100 + salary)\n",
    "    else :\n",
    "        print(salary * 10 / 100 + salary)"
   ]
  },
  {
   "cell_type": "code",
   "execution_count": 34,
   "id": "f7e626c3",
   "metadata": {},
   "outputs": [
    {
     "name": "stdout",
     "output_type": "stream",
     "text": [
      "1200\n",
      "2400\n",
      "3300\n",
      "4400\n",
      "5500\n"
     ]
    }
   ],
   "source": [
    "for salary in salaries:\n",
    "    \n",
    "    if salary < 3000:\n",
    "        print(new_salary(salary, 20))\n",
    "    else :\n",
    "        print(new_salary(salary, 10))"
   ]
  },
  {
   "cell_type": "markdown",
   "id": "4b146650",
   "metadata": {},
   "source": [
    "## Break, Continue, While\n",
    "> + Break : aranan ifade bulunduğunda döngünün durmasını sağlar.\n",
    "> + Continue : belirtilen ifade geldiğinde görmezden gel pas geç.\n",
    "> + While : dı sürece demektir.\n"
   ]
  },
  {
   "cell_type": "code",
   "execution_count": 35,
   "id": "8e3917de",
   "metadata": {},
   "outputs": [],
   "source": [
    "salaries = [1000, 2000, 3000, 4000, 5000]"
   ]
  },
  {
   "cell_type": "code",
   "execution_count": 39,
   "id": "ca2fcf63",
   "metadata": {},
   "outputs": [
    {
     "name": "stdout",
     "output_type": "stream",
     "text": [
      "1000\n",
      "2000\n"
     ]
    }
   ],
   "source": [
    "for salary in salaries:\n",
    "    if salary == 3000:\n",
    "        break \n",
    "    print(salary)    "
   ]
  },
  {
   "cell_type": "code",
   "execution_count": 40,
   "id": "1d4e1eeb",
   "metadata": {},
   "outputs": [
    {
     "name": "stdout",
     "output_type": "stream",
     "text": [
      "1000\n",
      "2000\n",
      "4000\n",
      "5000\n"
     ]
    }
   ],
   "source": [
    "for salary in salaries:\n",
    "    if salary == 3000:\n",
    "        continue \n",
    "    print(salary)  "
   ]
  },
  {
   "cell_type": "code",
   "execution_count": 44,
   "id": "df06d5a1",
   "metadata": {},
   "outputs": [
    {
     "name": "stdout",
     "output_type": "stream",
     "text": [
      "1\n",
      "2\n",
      "3\n",
      "4\n"
     ]
    }
   ],
   "source": [
    "number = 1\n",
    "while number < 5:\n",
    "    print(number)\n",
    "    number += 1"
   ]
  },
  {
   "cell_type": "markdown",
   "id": "ac307aeb",
   "metadata": {},
   "source": [
    "## Enumerate\n",
    "> Otomatik index üretici, elemanları gezerken index bilgisini de elde etme."
   ]
  },
  {
   "cell_type": "code",
   "execution_count": 45,
   "id": "d10a607c",
   "metadata": {},
   "outputs": [],
   "source": [
    "students = [\"Emine\", \"Ali\", \"Veli\", \"Ayşe\"]"
   ]
  },
  {
   "cell_type": "code",
   "execution_count": 47,
   "id": "db5c82a5",
   "metadata": {},
   "outputs": [
    {
     "name": "stdout",
     "output_type": "stream",
     "text": [
      "0 Emine\n",
      "1 Ali\n",
      "2 Veli\n",
      "3 Ayşe\n"
     ]
    }
   ],
   "source": [
    "for index, student in enumerate(students):\n",
    "    print(index, student)"
   ]
  },
  {
   "cell_type": "code",
   "execution_count": 49,
   "id": "ac11b3d4",
   "metadata": {},
   "outputs": [
    {
     "name": "stdout",
     "output_type": "stream",
     "text": [
      "2 Emine\n",
      "3 Ali\n",
      "4 Veli\n",
      "5 Ayşe\n"
     ]
    }
   ],
   "source": [
    "# İndex'i başlamasını istediğimiz değerden başalayabilir.\n",
    "# enumerate içerisine index bilgisini girbiliriz.\n",
    "\n",
    "for index, student in enumerate(students, 2):\n",
    "    print(index, student)"
   ]
  },
  {
   "cell_type": "markdown",
   "id": "130080a4",
   "metadata": {},
   "source": [
    "###### Çift index' deki öğrenvileri bir listeye tek index'deki öğrencileri bir listeye alma örneği \n"
   ]
  },
  {
   "cell_type": "code",
   "execution_count": 51,
   "id": "60e3b589",
   "metadata": {},
   "outputs": [],
   "source": [
    "A = []\n",
    "B = []\n",
    "for index, student in enumerate(students):\n",
    "    if index % 2 == 0:\n",
    "        A.append(student)\n",
    "    else:\n",
    "        B.append(student)"
   ]
  },
  {
   "cell_type": "code",
   "execution_count": 55,
   "id": "b37c97a1",
   "metadata": {},
   "outputs": [
    {
     "data": {
      "text/plain": [
       "['Emine', 'Veli']"
      ]
     },
     "execution_count": 55,
     "metadata": {},
     "output_type": "execute_result"
    }
   ],
   "source": [
    "A"
   ]
  },
  {
   "cell_type": "code",
   "execution_count": 53,
   "id": "2d179a07",
   "metadata": {},
   "outputs": [
    {
     "data": {
      "text/plain": [
       "['Ali', 'Ayşe']"
      ]
     },
     "execution_count": 53,
     "metadata": {},
     "output_type": "execute_result"
    }
   ],
   "source": [
    "B"
   ]
  },
  {
   "cell_type": "markdown",
   "id": "dc587480",
   "metadata": {},
   "source": [
    "## Alternating Fonksiyonunun Enumerate ile Yazılması\n",
    "> + Girilen metnin çift index'deki harfleri büyük, tek index'deki harfleri çük yazılacak"
   ]
  },
  {
   "cell_type": "code",
   "execution_count": 4,
   "id": "5512b1dc",
   "metadata": {},
   "outputs": [
    {
     "name": "stdout",
     "output_type": "stream",
     "text": [
      "MeRhAbA BeN EmInE, pYtHoN ÖğReNiYoRuM\n"
     ]
    }
   ],
   "source": [
    "def alternatig_with_enumerate(string):\n",
    "    new_string = \"\"\n",
    "    for i, letter in enumerate(string):\n",
    "        if i % 2 == 0:\n",
    "            new_string += letter.upper()\n",
    "        else:\n",
    "            new_string += letter.lower()\n",
    "    print(new_string)\n",
    "\n",
    "alternatig_with_enumerate(\"merhaba ben emine, Python öğreniyorum\")  "
   ]
  },
  {
   "cell_type": "markdown",
   "id": "76bd2f3a",
   "metadata": {},
   "source": [
    "## Zip\n",
    "> Elimizdeki birden farklı listeleri eşlemek için kullanılır. Birbirinden farklı listeleri bir arada değerlendirme fırsatı sağlar."
   ]
  },
  {
   "cell_type": "code",
   "execution_count": 5,
   "id": "e499323d",
   "metadata": {},
   "outputs": [],
   "source": [
    "students = [\"Ali\", \"Mehmet\", \"Emine\", \"Leyla\"]"
   ]
  },
  {
   "cell_type": "code",
   "execution_count": 6,
   "id": "1abd51b2",
   "metadata": {},
   "outputs": [],
   "source": [
    "departments = [\"mathematicd\", \"statistics\", \"physics\", \"astronomy\"]"
   ]
  },
  {
   "cell_type": "code",
   "execution_count": 7,
   "id": "edc59ccd",
   "metadata": {},
   "outputs": [],
   "source": [
    "age = [23, 30, 26, 22]"
   ]
  },
  {
   "cell_type": "markdown",
   "id": "146c05ac",
   "metadata": {},
   "source": [
    "> Genel çıktının liste formatında olmasını istediğimiz için list ffonksiyonunu kullanıyorum, liste içerisinde tuple formatıyla bize çıktıyı  verir."
   ]
  },
  {
   "cell_type": "code",
   "execution_count": 9,
   "id": "5f828edd",
   "metadata": {},
   "outputs": [
    {
     "data": {
      "text/plain": [
       "[('Ali', 'mathematicd', 23),\n",
       " ('Mehmet', 'statistics', 30),\n",
       " ('Emine', 'physics', 26),\n",
       " ('Leyla', 'astronomy', 22)]"
      ]
     },
     "execution_count": 9,
     "metadata": {},
     "output_type": "execute_result"
    }
   ],
   "source": [
    "list(zip(students, departments, age))"
   ]
  },
  {
   "cell_type": "markdown",
   "id": "6120176b",
   "metadata": {},
   "source": [
    "## Lambda \n",
    "> + Kullan at fonksiyondur, yani bir atama işlemi yapılmaksızın kullanılabilir.\n",
    "> + Bir fonksiyon tanımlama şeklidir."
   ]
  },
  {
   "cell_type": "code",
   "execution_count": 12,
   "id": "d1264140",
   "metadata": {},
   "outputs": [],
   "source": [
    "new_sum = lambda a, b: a + b"
   ]
  },
  {
   "cell_type": "code",
   "execution_count": 13,
   "id": "7a493f45",
   "metadata": {},
   "outputs": [
    {
     "data": {
      "text/plain": [
       "9"
      ]
     },
     "execution_count": 13,
     "metadata": {},
     "output_type": "execute_result"
    }
   ],
   "source": [
    "new_sum(4, 5)"
   ]
  },
  {
   "cell_type": "markdown",
   "id": "1027dbb7",
   "metadata": {},
   "source": [
    "## map\n",
    "> + Bizi döngü yazmaktan kurtarır.\n",
    "> + Bir fonksiyon ve bu fonksiyona uygulamak istediğimiz bir nesne yazılmalı."
   ]
  },
  {
   "cell_type": "code",
   "execution_count": 14,
   "id": "c07ea0ae",
   "metadata": {},
   "outputs": [],
   "source": [
    "salaries = [1000, 2000, 3000, 4000, 5000]"
   ]
  },
  {
   "cell_type": "code",
   "execution_count": 17,
   "id": "351d947b",
   "metadata": {},
   "outputs": [
    {
     "data": {
      "text/plain": [
       "6000.0"
      ]
     },
     "execution_count": 17,
     "metadata": {},
     "output_type": "execute_result"
    }
   ],
   "source": [
    "def new_salary(x):\n",
    "    return x * 20 / 100 + x\n",
    "\n",
    "new_salary(5000)"
   ]
  },
  {
   "cell_type": "code",
   "execution_count": 20,
   "id": "f7024aeb",
   "metadata": {},
   "outputs": [
    {
     "name": "stdout",
     "output_type": "stream",
     "text": [
      "1200.0\n",
      "2400.0\n",
      "3600.0\n",
      "4800.0\n",
      "6000.0\n"
     ]
    }
   ],
   "source": [
    "for salary in salaries:\n",
    "    print(new_salary(salary))"
   ]
  },
  {
   "cell_type": "markdown",
   "id": "bcfaa953",
   "metadata": {},
   "source": [
    "> + map kullanımı liste şeklinde almak istediğimiz için list fonksiyonunu kullanıyoruz."
   ]
  },
  {
   "cell_type": "code",
   "execution_count": 21,
   "id": "eed25b30",
   "metadata": {},
   "outputs": [
    {
     "data": {
      "text/plain": [
       "[1200.0, 2400.0, 3600.0, 4800.0, 6000.0]"
      ]
     },
     "execution_count": 21,
     "metadata": {},
     "output_type": "execute_result"
    }
   ],
   "source": [
    "list(map(new_salary, salaries))"
   ]
  },
  {
   "cell_type": "markdown",
   "id": "90704aba",
   "metadata": {},
   "source": [
    "##### lambda & map ilişkisi\n",
    "> +  bir fonksiyon tanımlaktansa lambda ile işlemi map içerisine yazılır."
   ]
  },
  {
   "cell_type": "code",
   "execution_count": 22,
   "id": "e9d117a2",
   "metadata": {},
   "outputs": [
    {
     "data": {
      "text/plain": [
       "[1200.0, 2400.0, 3600.0, 4800.0, 6000.0]"
      ]
     },
     "execution_count": 22,
     "metadata": {},
     "output_type": "execute_result"
    }
   ],
   "source": [
    "list(map(lambda x: x * 20 / 100 + x, salaries))"
   ]
  },
  {
   "cell_type": "markdown",
   "id": "c47dedd4",
   "metadata": {},
   "source": [
    "## filter\n",
    "> + Filtreleme işlemleri için kullanılır.\n",
    "> + Kullanım sıklığı düşüktür.\n",
    "> + Belirli bir koşulu sağlayanları seçmek istersek;"
   ]
  },
  {
   "cell_type": "code",
   "execution_count": 23,
   "id": "9863165d",
   "metadata": {},
   "outputs": [],
   "source": [
    "list_store = [1, 2, 3, 4, 5, 6, 7, 8, 9, 10]"
   ]
  },
  {
   "cell_type": "code",
   "execution_count": 24,
   "id": "a0cf35c7",
   "metadata": {},
   "outputs": [
    {
     "data": {
      "text/plain": [
       "[2, 4, 6, 8, 10]"
      ]
     },
     "execution_count": 24,
     "metadata": {},
     "output_type": "execute_result"
    }
   ],
   "source": [
    "list(filter(lambda x: x % 2 == 0, list_store))"
   ]
  },
  {
   "cell_type": "markdown",
   "id": "eb1f2552",
   "metadata": {},
   "source": [
    "## reduce\n",
    "> + İndirgemek anlamına gelir.\n",
    "> + reduce yapısını kullanmak için import etmemiz gerekli.\n",
    "> + İlgili elemanlara tek tek belirli bir işlemi uygulamak.\n",
    "> + Aşağıdaki örenekte her bir elemana işlem uygulayıp tek bir sonuç elde etti;"
   ]
  },
  {
   "cell_type": "code",
   "execution_count": 27,
   "id": "4d2c72a1",
   "metadata": {},
   "outputs": [],
   "source": [
    "from functools import reduce"
   ]
  },
  {
   "cell_type": "code",
   "execution_count": 28,
   "id": "3fd6b339",
   "metadata": {},
   "outputs": [],
   "source": [
    "list_store = [1, 2, 3, 4]"
   ]
  },
  {
   "cell_type": "code",
   "execution_count": 29,
   "id": "c502683b",
   "metadata": {},
   "outputs": [
    {
     "data": {
      "text/plain": [
       "10"
      ]
     },
     "execution_count": 29,
     "metadata": {},
     "output_type": "execute_result"
    }
   ],
   "source": [
    "reduce(lambda a, b: a + b, list_store)"
   ]
  },
  {
   "cell_type": "code",
   "execution_count": null,
   "id": "bb65a412",
   "metadata": {},
   "outputs": [],
   "source": []
  },
  {
   "cell_type": "code",
   "execution_count": null,
   "id": "fbc67a3f",
   "metadata": {},
   "outputs": [],
   "source": []
  }
 ],
 "metadata": {
  "kernelspec": {
   "display_name": "Python 3 (ipykernel)",
   "language": "python",
   "name": "python3"
  },
  "language_info": {
   "codemirror_mode": {
    "name": "ipython",
    "version": 3
   },
   "file_extension": ".py",
   "mimetype": "text/x-python",
   "name": "python",
   "nbconvert_exporter": "python",
   "pygments_lexer": "ipython3",
   "version": "3.9.12"
  }
 },
 "nbformat": 4,
 "nbformat_minor": 5
}
