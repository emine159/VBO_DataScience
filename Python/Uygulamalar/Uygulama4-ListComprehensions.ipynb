{
 "cells": [
  {
   "cell_type": "markdown",
   "id": "03dc57bc",
   "metadata": {},
   "source": [
    "## List Comprehensions\n",
    "> Bir Veri Setindeki Değişken İsimlerini Değiştirmek.\n",
    "---\n",
    "> Before:\n",
    "> + `['total', 'speeding', 'alcohol', 'not_distracted', 'no_previous', 'ins_premium', 'ins_losses', 'abbrev']`\n",
    "---\n",
    "> After:\n",
    "> + `['TOTAL', 'SPEEDING', 'ALCOHOL', 'NOT_DISTRACTED', 'NO_PREVIOUS', 'INS_PREMIUM', 'INS_LOSSES', 'ABBREV']`\n",
    "---"
   ]
  },
  {
   "cell_type": "markdown",
   "id": "f71aec3e",
   "metadata": {},
   "source": [
    "> Seaborn kütüphanesindeki \"car_crashes\" veri setini kullanarak bu işlemi gerçekleştireceğiz.\n",
    "> + Seaborn kütüphanesini import edelim "
   ]
  },
  {
   "cell_type": "code",
   "execution_count": 2,
   "id": "e6dba2d7",
   "metadata": {},
   "outputs": [
    {
     "data": {
      "text/plain": [
       "Index(['total', 'speeding', 'alcohol', 'not_distracted', 'no_previous',\n",
       "       'ins_premium', 'ins_losses', 'abbrev'],\n",
       "      dtype='object')"
      ]
     },
     "execution_count": 2,
     "metadata": {},
     "output_type": "execute_result"
    }
   ],
   "source": [
    "import seaborn as sns\n",
    "df = sns.load_dataset(\"car_crashes\")\n",
    "df.columns"
   ]
  },
  {
   "cell_type": "markdown",
   "id": "1727c29f",
   "metadata": {},
   "source": [
    ">> Klasik yol:\n",
    "> + For döngüsüyle kolonların üzerinde gezip her bir elemanı yütmek.\n",
    "> + Yapılan işlemin kalıcı olarak df.columns da olması için boş bir listede tutalım daha sonta atama işlemi gerçekleştirelim."
   ]
  },
  {
   "cell_type": "code",
   "execution_count": 6,
   "id": "ff67903b",
   "metadata": {},
   "outputs": [
    {
     "name": "stdout",
     "output_type": "stream",
     "text": [
      "['TOTAL', 'SPEEDING', 'ALCOHOL', 'NOT_DISTRACTED', 'NO_PREVIOUS', 'INS_PREMIUM', 'INS_LOSSES', 'ABBREV']\n"
     ]
    }
   ],
   "source": [
    "A = []\n",
    "\n",
    "for col in df.columns:\n",
    "    A.append(col.upper())\n",
    "    \n",
    "print(A)    "
   ]
  },
  {
   "cell_type": "code",
   "execution_count": 8,
   "id": "b6df4614",
   "metadata": {},
   "outputs": [],
   "source": [
    "df.columns = A"
   ]
  },
  {
   "cell_type": "code",
   "execution_count": 9,
   "id": "1134f179",
   "metadata": {},
   "outputs": [
    {
     "data": {
      "text/plain": [
       "Index(['TOTAL', 'SPEEDING', 'ALCOHOL', 'NOT_DISTRACTED', 'NO_PREVIOUS',\n",
       "       'INS_PREMIUM', 'INS_LOSSES', 'ABBREV'],\n",
       "      dtype='object')"
      ]
     },
     "execution_count": 9,
     "metadata": {},
     "output_type": "execute_result"
    }
   ],
   "source": [
    "df.columns"
   ]
  },
  {
   "cell_type": "markdown",
   "id": "c4ad9fae",
   "metadata": {},
   "source": [
    "> List Comprehensions yolu;\n"
   ]
  },
  {
   "cell_type": "code",
   "execution_count": 10,
   "id": "daea2cc5",
   "metadata": {},
   "outputs": [
    {
     "data": {
      "text/plain": [
       "Index(['total', 'speeding', 'alcohol', 'not_distracted', 'no_previous',\n",
       "       'ins_premium', 'ins_losses', 'abbrev'],\n",
       "      dtype='object')"
      ]
     },
     "execution_count": 10,
     "metadata": {},
     "output_type": "execute_result"
    }
   ],
   "source": [
    "import seaborn as sns\n",
    "df = sns.load_dataset(\"car_crashes\")\n",
    "df.columns"
   ]
  },
  {
   "cell_type": "code",
   "execution_count": 12,
   "id": "9ebc5197",
   "metadata": {},
   "outputs": [],
   "source": [
    "df.columns = [col.upper() for col in df.columns]"
   ]
  },
  {
   "cell_type": "code",
   "execution_count": 13,
   "id": "af6714af",
   "metadata": {},
   "outputs": [
    {
     "data": {
      "text/plain": [
       "Index(['TOTAL', 'SPEEDING', 'ALCOHOL', 'NOT_DISTRACTED', 'NO_PREVIOUS',\n",
       "       'INS_PREMIUM', 'INS_LOSSES', 'ABBREV'],\n",
       "      dtype='object')"
      ]
     },
     "execution_count": 13,
     "metadata": {},
     "output_type": "execute_result"
    }
   ],
   "source": [
    "df.columns"
   ]
  }
 ],
 "metadata": {
  "kernelspec": {
   "display_name": "Python 3 (ipykernel)",
   "language": "python",
   "name": "python3"
  },
  "language_info": {
   "codemirror_mode": {
    "name": "ipython",
    "version": 3
   },
   "file_extension": ".py",
   "mimetype": "text/x-python",
   "name": "python",
   "nbconvert_exporter": "python",
   "pygments_lexer": "ipython3",
   "version": "3.9.12"
  }
 },
 "nbformat": 4,
 "nbformat_minor": 5
}
