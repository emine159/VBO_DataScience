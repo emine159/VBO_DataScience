{
 "cells": [
  {
   "cell_type": "markdown",
   "id": "d5fc661a",
   "metadata": {},
   "source": [
    "## Dict Comprehensions\n",
    "> Amaç key'i string, value'su aşağıdaki gibi bir liste olan sözlük oluşturmak. Sadece sayısal değişkenler için yapmak istiyoruz.\n",
    "---\n",
    "> Output: \n",
    "> + `{'total': ['mean', 'min', 'max', 'var'],\n",
    " 'speeding': ['mean', 'min', 'max', 'var'],\n",
    " 'alcohol': ['mean', 'min', 'max', 'var'],\n",
    " 'not_distracted': ['mean', 'min', 'max', 'var'],\n",
    " 'no_previous': ['mean', 'min', 'max', 'var'],\n",
    " 'ins_premium': ['mean', 'min', 'max', 'var'],\n",
    " 'ins_losses': ['mean', 'min', 'max', 'var']}`"
   ]
  },
  {
   "cell_type": "markdown",
   "id": "294f1ec4",
   "metadata": {},
   "source": [
    "> 1. yol\n",
    "> + Seabon kütüphanesini inport edelim."
   ]
  },
  {
   "cell_type": "code",
   "execution_count": 1,
   "id": "22425ecf",
   "metadata": {},
   "outputs": [
    {
     "data": {
      "text/plain": [
       "Index(['total', 'speeding', 'alcohol', 'not_distracted', 'no_previous',\n",
       "       'ins_premium', 'ins_losses', 'abbrev'],\n",
       "      dtype='object')"
      ]
     },
     "execution_count": 1,
     "metadata": {},
     "output_type": "execute_result"
    }
   ],
   "source": [
    "import seaborn as sns\n",
    "df = sns.load_dataset(\"car_crashes\")\n",
    "df.columns"
   ]
  },
  {
   "cell_type": "markdown",
   "id": "a72c9f37",
   "metadata": {},
   "source": [
    "> + Veri setindeki sayısal değişkenlere ulaşmak için `df[col].dtype != \"o\"` ifadesiyle df.columns içerisindeki objet olamayanları seçeriz, yani sayısal ifadelerin seçimi yapılır."
   ]
  },
  {
   "cell_type": "code",
   "execution_count": 9,
   "id": "c5601668",
   "metadata": {},
   "outputs": [],
   "source": [
    "num_cols = [col for col in df.columns if df[col].dtype != \"o\"]"
   ]
  },
  {
   "cell_type": "code",
   "execution_count": 10,
   "id": "255dcafb",
   "metadata": {},
   "outputs": [
    {
     "data": {
      "text/plain": [
       "['total',\n",
       " 'speeding',\n",
       " 'alcohol',\n",
       " 'not_distracted',\n",
       " 'no_previous',\n",
       " 'ins_premium',\n",
       " 'ins_losses',\n",
       " 'abbrev']"
      ]
     },
     "execution_count": 10,
     "metadata": {},
     "output_type": "execute_result"
    }
   ],
   "source": [
    "num_cols"
   ]
  },
  {
   "cell_type": "markdown",
   "id": "20601a98",
   "metadata": {},
   "source": [
    "> + Boş bir sözlük ve agg_list oluşturalım.\n"
   ]
  },
  {
   "cell_type": "code",
   "execution_count": 11,
   "id": "e21951de",
   "metadata": {},
   "outputs": [],
   "source": [
    "dict = {}"
   ]
  },
  {
   "cell_type": "code",
   "execution_count": 13,
   "id": "0f9006ed",
   "metadata": {},
   "outputs": [],
   "source": [
    "agg_list = ['mean', 'min', 'max', 'var']"
   ]
  },
  {
   "cell_type": "code",
   "execution_count": 22,
   "id": "c5bea0e5",
   "metadata": {},
   "outputs": [],
   "source": [
    "for col in num_cols:\n",
    "    dict[col] = agg_list"
   ]
  },
  {
   "cell_type": "code",
   "execution_count": 23,
   "id": "0dcc3e92",
   "metadata": {},
   "outputs": [
    {
     "data": {
      "text/plain": [
       "['total',\n",
       " 'speeding',\n",
       " 'alcohol',\n",
       " 'not_distracted',\n",
       " 'no_previous',\n",
       " 'ins_premium',\n",
       " 'ins_losses',\n",
       " 'abbrev']"
      ]
     },
     "execution_count": 23,
     "metadata": {},
     "output_type": "execute_result"
    }
   ],
   "source": [
    "num_cols"
   ]
  },
  {
   "cell_type": "markdown",
   "id": "69b8e19a",
   "metadata": {},
   "source": [
    "> 2. yol\n",
    "> + Dict Comprehensions"
   ]
  },
  {
   "cell_type": "code",
   "execution_count": 19,
   "id": "7ccea4dc",
   "metadata": {},
   "outputs": [
    {
     "data": {
      "text/plain": [
       "{'total': ['mean', 'min', 'max', 'var'],\n",
       " 'speeding': ['mean', 'min', 'max', 'var'],\n",
       " 'alcohol': ['mean', 'min', 'max', 'var'],\n",
       " 'not_distracted': ['mean', 'min', 'max', 'var'],\n",
       " 'no_previous': ['mean', 'min', 'max', 'var'],\n",
       " 'ins_premium': ['mean', 'min', 'max', 'var'],\n",
       " 'ins_losses': ['mean', 'min', 'max', 'var'],\n",
       " 'abbrev': ['mean', 'min', 'max', 'var']}"
      ]
     },
     "execution_count": 19,
     "metadata": {},
     "output_type": "execute_result"
    }
   ],
   "source": [
    "{col :agg_list  for col in num_cols }"
   ]
  }
 ],
 "metadata": {
  "kernelspec": {
   "display_name": "Python 3 (ipykernel)",
   "language": "python",
   "name": "python3"
  },
  "language_info": {
   "codemirror_mode": {
    "name": "ipython",
    "version": 3
   },
   "file_extension": ".py",
   "mimetype": "text/x-python",
   "name": "python",
   "nbconvert_exporter": "python",
   "pygments_lexer": "ipython3",
   "version": "3.9.12"
  }
 },
 "nbformat": 4,
 "nbformat_minor": 5
}
