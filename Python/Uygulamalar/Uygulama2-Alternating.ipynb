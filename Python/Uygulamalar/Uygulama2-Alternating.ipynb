{
 "cells": [
  {
   "cell_type": "markdown",
   "id": "b11ac100",
   "metadata": {},
   "source": [
    ">Amaç: Aşağıdaki şekilde string değiştiren fonksiyonu yazmak isitiyoruz\n",
    "> + Tek index'leri küçült çift index'leri büyüt.\n",
    "> + Before: \"hi my name is john and i am learning python\"\n",
    "> + After: \"Hi mY NaMe iS JoHn aNd i aM LeArNiNg pYtHoN\""
   ]
  },
  {
   "cell_type": "code",
   "execution_count": 9,
   "id": "194a789e",
   "metadata": {},
   "outputs": [
    {
     "name": "stdout",
     "output_type": "stream",
     "text": [
      "Hi mY NaMe iS JoHn aNd i aM LeArNiNg pYtHoN\n"
     ]
    }
   ],
   "source": [
    "def alternating(string):\n",
    "    new_string = \"\"\n",
    "    for string_index in range(len(string)):\n",
    "        if string_index % 2 == 0:\n",
    "            new_string += string[string_index].upper()\n",
    "        else:\n",
    "            new_string += string[string_index].lower()\n",
    "           \n",
    "    print(new_string)\n",
    "    \n",
    "alternating(\"hi my name is john and i am learning python\")    "
   ]
  }
 ],
 "metadata": {
  "kernelspec": {
   "display_name": "Python 3 (ipykernel)",
   "language": "python",
   "name": "python3"
  },
  "language_info": {
   "codemirror_mode": {
    "name": "ipython",
    "version": 3
   },
   "file_extension": ".py",
   "mimetype": "text/x-python",
   "name": "python",
   "nbconvert_exporter": "python",
   "pygments_lexer": "ipython3",
   "version": "3.9.12"
  }
 },
 "nbformat": 4,
 "nbformat_minor": 5
}
