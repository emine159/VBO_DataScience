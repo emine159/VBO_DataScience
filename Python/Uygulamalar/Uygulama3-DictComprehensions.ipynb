{
 "cells": [
  {
   "cell_type": "markdown",
   "id": "7ae09f05",
   "metadata": {},
   "source": [
    "## Dict Comprehensions\n",
    "> Amaç: çift sayıların karesi alınarak bir sözlüğe eklenmek istenmektedir.\n",
    ">> Klasik yol;\n",
    "> Random 10 adet sayı ürettik\n",
    "> Atama işlemlerinin yapılanilmesi için boş bir sözlük tanımladık.\n",
    "> En sonunda ise döngütü oluşturduk, Döndüde;\n",
    ">> +           `new_dict[n] = n ** 2`\n",
    ">> + `new_dict[n]` kısımda oluşturduğumuz boş sözlüğün içerisine key değerleini atamak için, `n ** 2` buradaki ise value değrlerine uygulanacak işlemleri ifade eder."
   ]
  },
  {
   "cell_type": "code",
   "execution_count": 2,
   "id": "1b6442aa",
   "metadata": {},
   "outputs": [],
   "source": [
    "numbers = range(10)"
   ]
  },
  {
   "cell_type": "code",
   "execution_count": 4,
   "id": "8870e6e0",
   "metadata": {},
   "outputs": [],
   "source": [
    "new_dict = {}"
   ]
  },
  {
   "cell_type": "code",
   "execution_count": 11,
   "id": "aa590727",
   "metadata": {},
   "outputs": [],
   "source": [
    "for n in numbers:\n",
    "    if n % 2 ==0:\n",
    "        new_dict[n] = n ** 2  "
   ]
  },
  {
   "cell_type": "code",
   "execution_count": 12,
   "id": "363257a3",
   "metadata": {},
   "outputs": [
    {
     "data": {
      "text/plain": [
       "{0: 0, 2: 4, 4: 16, 6: 36, 8: 64}"
      ]
     },
     "execution_count": 12,
     "metadata": {},
     "output_type": "execute_result"
    }
   ],
   "source": [
    "new_dict "
   ]
  },
  {
   "cell_type": "markdown",
   "id": "6b6838a1",
   "metadata": {},
   "source": [
    ">> DictComprehensions yolu;"
   ]
  },
  {
   "cell_type": "code",
   "execution_count": 13,
   "id": "84ee6aca",
   "metadata": {},
   "outputs": [
    {
     "data": {
      "text/plain": [
       "{0: 0, 2: 4, 4: 16, 6: 36, 8: 64}"
      ]
     },
     "execution_count": 13,
     "metadata": {},
     "output_type": "execute_result"
    }
   ],
   "source": [
    "{n : n**2 for n in numbers if n % 2 == 0}"
   ]
  }
 ],
 "metadata": {
  "kernelspec": {
   "display_name": "Python 3 (ipykernel)",
   "language": "python",
   "name": "python3"
  },
  "language_info": {
   "codemirror_mode": {
    "name": "ipython",
    "version": 3
   },
   "file_extension": ".py",
   "mimetype": "text/x-python",
   "name": "python",
   "nbconvert_exporter": "python",
   "pygments_lexer": "ipython3",
   "version": "3.9.12"
  }
 },
 "nbformat": 4,
 "nbformat_minor": 5
}
