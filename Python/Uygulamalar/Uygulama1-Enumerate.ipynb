{
 "cells": [
  {
   "cell_type": "markdown",
   "id": "f29d4874",
   "metadata": {},
   "source": [
    "## Alternating Fonksiyonunun Enumerate ile Yazılması\n",
    "> + Girilen metnin çift index'deki harfleri büyük, tek index'deki harfleri küçük yazılacak"
   ]
  },
  {
   "cell_type": "code",
   "execution_count": 1,
   "id": "ab4d09ee",
   "metadata": {},
   "outputs": [
    {
     "name": "stdout",
     "output_type": "stream",
     "text": [
      "MeRhAbA BeN EmInE, pYtHoN ÖğReNiYoRuM\n"
     ]
    }
   ],
   "source": [
    "def alternatig_with_enumerate(string):\n",
    "    new_string = \"\"\n",
    "    for i, letter in enumerate(string):\n",
    "        if i % 2 == 0:\n",
    "            new_string += letter.upper()\n",
    "        else:\n",
    "            new_string += letter.lower()\n",
    "    print(new_string)\n",
    "\n",
    "alternatig_with_enumerate(\"merhaba ben emine, Python öğreniyorum\")  "
   ]
  },
  {
   "cell_type": "code",
   "execution_count": null,
   "id": "52a286d9",
   "metadata": {},
   "outputs": [],
   "source": []
  }
 ],
 "metadata": {
  "kernelspec": {
   "display_name": "Python 3 (ipykernel)",
   "language": "python",
   "name": "python3"
  },
  "language_info": {
   "codemirror_mode": {
    "name": "ipython",
    "version": 3
   },
   "file_extension": ".py",
   "mimetype": "text/x-python",
   "name": "python",
   "nbconvert_exporter": "python",
   "pygments_lexer": "ipython3",
   "version": "3.9.12"
  }
 },
 "nbformat": 4,
 "nbformat_minor": 5
}
