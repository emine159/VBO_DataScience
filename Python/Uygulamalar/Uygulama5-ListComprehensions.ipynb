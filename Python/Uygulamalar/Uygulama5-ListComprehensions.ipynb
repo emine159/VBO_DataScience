{
 "cells": [
  {
   "cell_type": "markdown",
   "id": "262bc6b1",
   "metadata": {},
   "source": [
    "## List Comprehensions\n",
    ">  İsminde \"INS\" olan değişkenlerin başına FLAG_, diğerlerine NO_FLAG_ eklemek istiyoruz.\n",
    "---\n",
    "> Before:\n",
    "> +`['TOTAL',\n",
    " 'SPEEDING',\n",
    " 'ALCOHOL',\n",
    " 'NOT_DISTRACTED',\n",
    " 'NO_PREVIOUS',\n",
    " 'INS_PREMIUM',\n",
    " 'INS_LOSSES',\n",
    " 'ABBREV']`\n",
    "---\n",
    "> After:\n",
    "> + ` ['NO_FLAG_TOTAL',\n",
    "  'NO_FLAG_SPEEDING',\n",
    "  'NO_FLAG_ALCOHOL',\n",
    "  'NO_FLAG_NOT_DISTRACTED',\n",
    "  'NO_FLAG_NO_PREVIOUS',\n",
    "  'FLAG_INS_PREMIUM',\n",
    "  'FLAG_INS_LOSSES',\n",
    "  'NO_FLAG_ABBREV']`\n",
    "---"
   ]
  },
  {
   "cell_type": "markdown",
   "id": "f6165220",
   "metadata": {},
   "source": [
    "> List Comprehensions yapısıyla adım adım bizden istenilen çıktıyı yakalamaya çalışalım.\n"
   ]
  },
  {
   "cell_type": "code",
   "execution_count": 2,
   "id": "1834bc7f",
   "metadata": {},
   "outputs": [
    {
     "data": {
      "text/plain": [
       "Index(['total', 'speeding', 'alcohol', 'not_distracted', 'no_previous',\n",
       "       'ins_premium', 'ins_losses', 'abbrev'],\n",
       "      dtype='object')"
      ]
     },
     "execution_count": 2,
     "metadata": {},
     "output_type": "execute_result"
    }
   ],
   "source": [
    "import seaborn as sns\n",
    "df = sns.load_dataset(\"car_crashes\")\n",
    "df.columns"
   ]
  },
  {
   "cell_type": "markdown",
   "id": "f44e6101",
   "metadata": {},
   "source": [
    "> + df.columns veri setinin içerisindeki elemanları büyütme işlemi yapalım."
   ]
  },
  {
   "cell_type": "code",
   "execution_count": 7,
   "id": "a1a5a92a",
   "metadata": {},
   "outputs": [],
   "source": [
    "df.columns = [col.upper() for col in df.columns]"
   ]
  },
  {
   "cell_type": "code",
   "execution_count": 9,
   "id": "ab92fd5a",
   "metadata": {},
   "outputs": [
    {
     "data": {
      "text/plain": [
       "Index(['TOTAL', 'SPEEDING', 'ALCOHOL', 'NOT_DISTRACTED', 'NO_PREVIOUS',\n",
       "       'INS_PREMIUM', 'INS_LOSSES', 'ABBREV'],\n",
       "      dtype='object')"
      ]
     },
     "execution_count": 9,
     "metadata": {},
     "output_type": "execute_result"
    }
   ],
   "source": [
    "df.columns"
   ]
  },
  {
   "cell_type": "markdown",
   "id": "43571439",
   "metadata": {},
   "source": [
    "> + df.columns içerisinde \"INS\" geçen elemanları çağıralım."
   ]
  },
  {
   "cell_type": "code",
   "execution_count": 8,
   "id": "fb00ef4b",
   "metadata": {},
   "outputs": [
    {
     "data": {
      "text/plain": [
       "['INS_PREMIUM', 'INS_LOSSES']"
      ]
     },
     "execution_count": 8,
     "metadata": {},
     "output_type": "execute_result"
    }
   ],
   "source": [
    "[col for col in df.columns if \"INS\" in col]"
   ]
  },
  {
   "cell_type": "markdown",
   "id": "37655241",
   "metadata": {},
   "source": [
    "> + İçerisinde \"INS\" bulunan elemanların başına \"FLAG_\" ekle."
   ]
  },
  {
   "cell_type": "code",
   "execution_count": 10,
   "id": "35cf1f78",
   "metadata": {},
   "outputs": [
    {
     "data": {
      "text/plain": [
       "['FLAG_INS_PREMIUM', 'FLAG_INS_LOSSES']"
      ]
     },
     "execution_count": 10,
     "metadata": {},
     "output_type": "execute_result"
    }
   ],
   "source": [
    "[\"FLAG_\" + col for col in df.columns if \"INS\" in col]"
   ]
  },
  {
   "cell_type": "markdown",
   "id": "5cc3ae54",
   "metadata": {},
   "source": [
    "> + İçerisinde \"INS\" bulunmayan elemanların başınada \"NO_FLAG_\" ifadesi ekleyelim\n",
    "> + !! if ve else yapısının ikisi de geldiği için koşullar fordan öndece kullanılır"
   ]
  },
  {
   "cell_type": "code",
   "execution_count": 14,
   "id": "198be9f3",
   "metadata": {
    "scrolled": true
   },
   "outputs": [
    {
     "data": {
      "text/plain": [
       "['NO_FLAG_TOTAL',\n",
       " 'NO_FLAG_SPEEDING',\n",
       " 'NO_FLAG_ALCOHOL',\n",
       " 'NO_FLAG_NOT_DISTRACTED',\n",
       " 'NO_FLAG_NO_PREVIOUS',\n",
       " 'FLAG_INS_PREMIUM',\n",
       " 'FLAG_INS_LOSSES',\n",
       " 'NO_FLAG_ABBREV']"
      ]
     },
     "execution_count": 14,
     "metadata": {},
     "output_type": "execute_result"
    }
   ],
   "source": [
    "[\"FLAG_\" + col  if \"INS\" in col else \"NO_FLAG_\" + col for col in df.columns]"
   ]
  },
  {
   "cell_type": "markdown",
   "id": "4b45fa7f",
   "metadata": {},
   "source": [
    "> + df.columns'a kalıcı olarak yapılan işlemi atama işlemi."
   ]
  },
  {
   "cell_type": "code",
   "execution_count": 19,
   "id": "fe128c80",
   "metadata": {},
   "outputs": [],
   "source": [
    "df.columns = [\"FLAG_\" + col  if \"INS\" in col else \"NO_FLAG_\" + col for col in df.columns]"
   ]
  },
  {
   "cell_type": "code",
   "execution_count": 20,
   "id": "b5f4bce8",
   "metadata": {},
   "outputs": [
    {
     "data": {
      "text/plain": [
       "Index(['NO_FLAG_TOTAL', 'NO_FLAG_SPEEDING', 'NO_FLAG_ALCOHOL',\n",
       "       'NO_FLAG_NOT_DISTRACTED', 'NO_FLAG_NO_PREVIOUS', 'FLAG_INS_PREMIUM',\n",
       "       'FLAG_INS_LOSSES', 'NO_FLAG_ABBREV'],\n",
       "      dtype='object')"
      ]
     },
     "execution_count": 20,
     "metadata": {},
     "output_type": "execute_result"
    }
   ],
   "source": [
    "df.columns"
   ]
  }
 ],
 "metadata": {
  "kernelspec": {
   "display_name": "Python 3 (ipykernel)",
   "language": "python",
   "name": "python3"
  },
  "language_info": {
   "codemirror_mode": {
    "name": "ipython",
    "version": 3
   },
   "file_extension": ".py",
   "mimetype": "text/x-python",
   "name": "python",
   "nbconvert_exporter": "python",
   "pygments_lexer": "ipython3",
   "version": "3.9.12"
  }
 },
 "nbformat": 4,
 "nbformat_minor": 5
}
