{
 "cells": [
  {
   "cell_type": "markdown",
   "id": "c6bfab22",
   "metadata": {},
   "source": [
    "# Python ile Veri Analizi : NumPy\n",
    " + NumPy matematik ve istatistik denildiğinde akla gelen ilk kütüphanedir.\n",
    " + Verimli veri saklama ve vektörel operasyonlardır -diğer anlamıyla yüksek seviye işlemlerdir- \n",
    " + Listelere kıyasla daha hızlı işlem yapma yeteneğine sahiptir.\n",
    " + Sabit tipte veri tutar.\n",
    " + Döngü yazmadan basit seviye işlemleri gerçekleitirmeyi sağlar.\n",
    "    + NumPy Özellikleri\n",
    "    + NumPy Array'i oluşturmak (Creating Numpy Arrays)\n",
    "    + NumPy Array özellikleri (Attibutes of Numpy Arrays)\n",
    "    + Yeniden şekillendirme (Reshaping)\n",
    "    + Index Seçimi (Index selection)\n",
    "    + Slicing\n",
    "    + Fancy Index\n",
    "    + Numpy'da koşullu işlemler (Conditions on Numpy)\n",
    "    + Matematiksel işlemler (Mathematical Operations)\n",
    "---\n",
    "##### NumPy Özellikleri\n",
    "Numpy kütüphanesini çalışmaya dahil etmek;"
   ]
  },
  {
   "cell_type": "code",
   "execution_count": 26,
   "id": "164c4ca1",
   "metadata": {},
   "outputs": [],
   "source": [
    "import numpy as np"
   ]
  },
  {
   "cell_type": "markdown",
   "id": "75fe6d19",
   "metadata": {},
   "source": [
    "> Hız:\n",
    "> + Hızlı olmasının sebebi sabit tipte veri tutması.\n",
    "> + Yüksek seviyeden (vektörel seviyeden) işlemler yapmayı sağlıyor, bu da daha az çabayla daha çok işlemler yapmayı sağlıyor.\n",
    "---\n",
    "Amaç: İki listenin çarpımını boş bir listeye aktarmak."
   ]
  },
  {
   "cell_type": "code",
   "execution_count": 3,
   "id": "b9cd1f5d",
   "metadata": {},
   "outputs": [],
   "source": [
    "a = [1, 2, 3, 4]"
   ]
  },
  {
   "cell_type": "code",
   "execution_count": 4,
   "id": "e2770178",
   "metadata": {},
   "outputs": [],
   "source": [
    "b = [2, 3, 4, 5]"
   ]
  },
  {
   "cell_type": "markdown",
   "id": "4225095f",
   "metadata": {},
   "source": [
    "Klasik python yolu;\n"
   ]
  },
  {
   "cell_type": "code",
   "execution_count": 20,
   "id": "4db9972e",
   "metadata": {},
   "outputs": [],
   "source": [
    "ab = []\n",
    "\n",
    "for index in range(0, len(a)):\n",
    "    ab.append(a[index] * b[index])\n",
    "    "
   ]
  },
  {
   "cell_type": "code",
   "execution_count": 15,
   "id": "1bc8aa18",
   "metadata": {},
   "outputs": [
    {
     "data": {
      "text/plain": [
       "[2, 6, 12, 20]"
      ]
     },
     "execution_count": 15,
     "metadata": {},
     "output_type": "execute_result"
    }
   ],
   "source": [
    "ab"
   ]
  },
  {
   "cell_type": "markdown",
   "id": "c18fddd5",
   "metadata": {},
   "source": [
    "NumPy python yolu;"
   ]
  },
  {
   "cell_type": "code",
   "execution_count": 19,
   "id": "cd0cf6fe",
   "metadata": {},
   "outputs": [
    {
     "data": {
      "text/plain": [
       "array([ 2,  6, 12, 20])"
      ]
     },
     "execution_count": 19,
     "metadata": {},
     "output_type": "execute_result"
    }
   ],
   "source": [
    "a = np.array([1, 2, 3, 4])\n",
    "b = np.array([2, 3, 4, 5])\n",
    "\n",
    "a * b"
   ]
  },
  {
   "cell_type": "markdown",
   "id": "69ec1e08",
   "metadata": {},
   "source": [
    "##### NumPy Array'i oluşturmak (Creating Numpy Arrays)\n",
    "Numpy kütüphanesini çalışmaya dahil etmek;"
   ]
  },
  {
   "cell_type": "code",
   "execution_count": 21,
   "id": "b093c84a",
   "metadata": {},
   "outputs": [],
   "source": [
    "import numpy as np"
   ]
  },
  {
   "cell_type": "markdown",
   "id": "a17e1200",
   "metadata": {},
   "source": [
    "> + Liste üzerinden bir NumPy array oluşturulur."
   ]
  },
  {
   "cell_type": "code",
   "execution_count": 22,
   "id": "11af6048",
   "metadata": {},
   "outputs": [
    {
     "data": {
      "text/plain": [
       "array([1, 2, 3, 4, 5])"
      ]
     },
     "execution_count": 22,
     "metadata": {},
     "output_type": "execute_result"
    }
   ],
   "source": [
    "np.array([1, 2, 3, 4, 5])"
   ]
  },
  {
   "cell_type": "markdown",
   "id": "edf1d4d2",
   "metadata": {},
   "source": [
    "> + Tipleri sıfırdan oluşan array oluşturma, array'in tipini kedimiz `dtype` yöntemiyle belirleyebiliriz."
   ]
  },
  {
   "cell_type": "code",
   "execution_count": 23,
   "id": "9ea8425a",
   "metadata": {},
   "outputs": [
    {
     "data": {
      "text/plain": [
       "array([0, 0, 0, 0, 0, 0, 0, 0, 0, 0])"
      ]
     },
     "execution_count": 23,
     "metadata": {},
     "output_type": "execute_result"
    }
   ],
   "source": [
    "np.zeros(10, dtype=int)"
   ]
  },
  {
   "cell_type": "markdown",
   "id": "a5ad13d7",
   "metadata": {},
   "source": [
    "> + Belirli bir aralıktan array oluşturma işlemi.\n",
    "> + Üç adet argüman vardır \n",
    "     + Birincisine : Alt sınır, herhangi bir ifade girmezsek sıfır olarak kabul edecektir.\n",
    "     + İkincisine : Üst sınır\n",
    "     + Üçüncüsüne : kaç array seçimi yapılacağı bilgisi.  "
   ]
  },
  {
   "cell_type": "code",
   "execution_count": 24,
   "id": "4f798902",
   "metadata": {},
   "outputs": [
    {
     "data": {
      "text/plain": [
       "array([5, 9, 3, 3, 8, 2, 3, 6, 3, 7])"
      ]
     },
     "execution_count": 24,
     "metadata": {},
     "output_type": "execute_result"
    }
   ],
   "source": [
    "np.random.randint(0, 10, size=10)"
   ]
  },
  {
   "cell_type": "markdown",
   "id": "ee94d808",
   "metadata": {},
   "source": [
    "> + Belirli bir istatiksel dağılıma göre array üretmek istersek.\n",
    "> + Üç adet argüman vardır \n",
    "     + Birincisine : Normal dağılımın kitlenin ortalamasını \n",
    "     + İkincisine : Normal dağılımın standart sapması \n",
    "     + Üçüncüsüne : Boyut bilgisi\n",
    " "
   ]
  },
  {
   "cell_type": "code",
   "execution_count": 25,
   "id": "03f8a088",
   "metadata": {},
   "outputs": [
    {
     "data": {
      "text/plain": [
       "array([[ 2.67447192, 17.08621763, 15.10291205, 10.03247399],\n",
       "       [ 8.71004487,  4.72134352,  7.30071026,  8.95514971],\n",
       "       [ 7.78214779, 10.8870376 ,  3.55127556,  6.2381092 ]])"
      ]
     },
     "execution_count": 25,
     "metadata": {},
     "output_type": "execute_result"
    }
   ],
   "source": [
    "np.random.normal(10, 4, (3,4))"
   ]
  },
  {
   "cell_type": "markdown",
   "id": "80726f89",
   "metadata": {},
   "source": [
    "##### NumPy Array özellikleri (Attibutes of Numpy Arrays)\n",
    "Numpy kütüphanesini çalışmaya dahil etmek;"
   ]
  },
  {
   "cell_type": "code",
   "execution_count": 27,
   "id": "212154f2",
   "metadata": {},
   "outputs": [],
   "source": [
    "import numpy as np"
   ]
  },
  {
   "cell_type": "markdown",
   "id": "cd047327",
   "metadata": {},
   "source": [
    "Sıfırdan bir array oluşturalım"
   ]
  },
  {
   "cell_type": "code",
   "execution_count": 28,
   "id": "d75f8092",
   "metadata": {},
   "outputs": [],
   "source": [
    "a = np.random.randint(10, size=5)"
   ]
  },
  {
   "cell_type": "code",
   "execution_count": 29,
   "id": "437eaf42",
   "metadata": {},
   "outputs": [
    {
     "data": {
      "text/plain": [
       "array([7, 6, 9, 2, 3])"
      ]
     },
     "execution_count": 29,
     "metadata": {},
     "output_type": "execute_result"
    }
   ],
   "source": [
    "a"
   ]
  },
  {
   "cell_type": "markdown",
   "id": "40285edc",
   "metadata": {},
   "source": [
    "> + ndim: Boyut sayısı"
   ]
  },
  {
   "cell_type": "code",
   "execution_count": 30,
   "id": "94c31da3",
   "metadata": {},
   "outputs": [
    {
     "data": {
      "text/plain": [
       "1"
      ]
     },
     "execution_count": 30,
     "metadata": {},
     "output_type": "execute_result"
    }
   ],
   "source": [
    "a.ndim"
   ]
  },
  {
   "cell_type": "markdown",
   "id": "1e30fb63",
   "metadata": {},
   "source": [
    "> + shape: Boyut bilgisi\n",
    "> + ikiden fazla boyut bilgisi olsaydı virgülsen sonra her bir boyutun sayı bilgisi gelecekti."
   ]
  },
  {
   "cell_type": "code",
   "execution_count": 31,
   "id": "8f90a29b",
   "metadata": {},
   "outputs": [
    {
     "data": {
      "text/plain": [
       "(5,)"
      ]
     },
     "execution_count": 31,
     "metadata": {},
     "output_type": "execute_result"
    }
   ],
   "source": [
    "a.shape"
   ]
  },
  {
   "cell_type": "markdown",
   "id": "eb4f9f41",
   "metadata": {},
   "source": [
    "> + size: Toplam eleman sayısı"
   ]
  },
  {
   "cell_type": "code",
   "execution_count": 32,
   "id": "22d0274a",
   "metadata": {},
   "outputs": [
    {
     "data": {
      "text/plain": [
       "5"
      ]
     },
     "execution_count": 32,
     "metadata": {},
     "output_type": "execute_result"
    }
   ],
   "source": [
    "a.size"
   ]
  },
  {
   "cell_type": "markdown",
   "id": "fecb021b",
   "metadata": {},
   "source": [
    "> + dtype: array veri tipi"
   ]
  },
  {
   "cell_type": "code",
   "execution_count": 33,
   "id": "32d8539c",
   "metadata": {},
   "outputs": [
    {
     "data": {
      "text/plain": [
       "dtype('int32')"
      ]
     },
     "execution_count": 33,
     "metadata": {},
     "output_type": "execute_result"
    }
   ],
   "source": [
    "a.dtype"
   ]
  },
  {
   "cell_type": "markdown",
   "id": "7181b115",
   "metadata": {},
   "source": [
    "##### Yeniden şekillendirme (Reshaping)\n",
    "+ Elimizdeki bir NumPy array'inin buyutunu değiştirmek istediğimizde -reshaping- metodunu kullanırız.\n",
    "---\n",
    "Numpy kütüphanesini çalışmaya dahil etmek;\n",
    "\n",
    "---\n",
    "Sıfırdan array oluşturalım;"
   ]
  },
  {
   "cell_type": "code",
   "execution_count": null,
   "id": "0f1664b4",
   "metadata": {},
   "outputs": [],
   "source": [
    "import numpy as np"
   ]
  },
  {
   "cell_type": "code",
   "execution_count": 34,
   "id": "a3f2b312",
   "metadata": {},
   "outputs": [
    {
     "data": {
      "text/plain": [
       "array([2, 2, 2, 8, 1, 5, 6, 2, 2])"
      ]
     },
     "execution_count": 34,
     "metadata": {},
     "output_type": "execute_result"
    }
   ],
   "source": [
    "np.random.randint(1, 10, size=9)"
   ]
  },
  {
   "cell_type": "markdown",
   "id": "b2014300",
   "metadata": {},
   "source": [
    "> Amaç: Elimizdeki array'i iki noyutlu bir array' çevirmek\n",
    "> + 'reshape' methodunu kullanarak istediğimiz boyut bilgisini giriyoruz."
   ]
  },
  {
   "cell_type": "code",
   "execution_count": 35,
   "id": "f8df642d",
   "metadata": {},
   "outputs": [
    {
     "data": {
      "text/plain": [
       "array([[8, 5, 2],\n",
       "       [6, 4, 9],\n",
       "       [5, 1, 4]])"
      ]
     },
     "execution_count": 35,
     "metadata": {},
     "output_type": "execute_result"
    }
   ],
   "source": [
    "np.random.randint(1, 10, size=9).reshape(3, 3)"
   ]
  },
  {
   "cell_type": "markdown",
   "id": "6a3ef699",
   "metadata": {},
   "source": [
    "> + İşlemi atama üzerinden de gerçekleitirebilirdik."
   ]
  },
  {
   "cell_type": "code",
   "execution_count": 36,
   "id": "a152bb34",
   "metadata": {},
   "outputs": [],
   "source": [
    "ar = np.random.randint(1, 10, size=9)"
   ]
  },
  {
   "cell_type": "code",
   "execution_count": 38,
   "id": "c421369b",
   "metadata": {},
   "outputs": [
    {
     "data": {
      "text/plain": [
       "array([[1, 4, 1],\n",
       "       [4, 2, 3],\n",
       "       [1, 2, 1]])"
      ]
     },
     "execution_count": 38,
     "metadata": {},
     "output_type": "execute_result"
    }
   ],
   "source": [
    "ar.reshape(3, 3)"
   ]
  },
  {
   "cell_type": "markdown",
   "id": "03fccdf0",
   "metadata": {},
   "source": [
    "> + !! eleman sayısını göz önünde bulundurarak boyut bilgisini kullanambiliriz.\n",
    "> + Eleman sayısını `size=10` değiştirirsek boyut değiştirirken `reshape(3, 3)` hata alırız."
   ]
  },
  {
   "cell_type": "code",
   "execution_count": 39,
   "id": "00bd9482",
   "metadata": {},
   "outputs": [
    {
     "ename": "ValueError",
     "evalue": "cannot reshape array of size 10 into shape (3,3)",
     "output_type": "error",
     "traceback": [
      "\u001b[1;31m---------------------------------------------------------------------------\u001b[0m",
      "\u001b[1;31mValueError\u001b[0m                                Traceback (most recent call last)",
      "Input \u001b[1;32mIn [39]\u001b[0m, in \u001b[0;36m<cell line: 1>\u001b[1;34m()\u001b[0m\n\u001b[1;32m----> 1\u001b[0m \u001b[43mnp\u001b[49m\u001b[38;5;241;43m.\u001b[39;49m\u001b[43mrandom\u001b[49m\u001b[38;5;241;43m.\u001b[39;49m\u001b[43mrandint\u001b[49m\u001b[43m(\u001b[49m\u001b[38;5;241;43m1\u001b[39;49m\u001b[43m,\u001b[49m\u001b[43m \u001b[49m\u001b[38;5;241;43m10\u001b[39;49m\u001b[43m,\u001b[49m\u001b[43m \u001b[49m\u001b[43msize\u001b[49m\u001b[38;5;241;43m=\u001b[39;49m\u001b[38;5;241;43m10\u001b[39;49m\u001b[43m)\u001b[49m\u001b[38;5;241;43m.\u001b[39;49m\u001b[43mreshape\u001b[49m\u001b[43m(\u001b[49m\u001b[38;5;241;43m3\u001b[39;49m\u001b[43m,\u001b[49m\u001b[43m \u001b[49m\u001b[38;5;241;43m3\u001b[39;49m\u001b[43m)\u001b[49m\n",
      "\u001b[1;31mValueError\u001b[0m: cannot reshape array of size 10 into shape (3,3)"
     ]
    }
   ],
   "source": [
    "np.random.randint(1, 10, size=10).reshape(3, 3)"
   ]
  },
  {
   "cell_type": "markdown",
   "id": "c334af4a",
   "metadata": {},
   "source": [
    "##### Index Seçimi (Index selection)\n",
    "Numpy kütüphanesini çalışmaya dahil etmek;\n",
    "\n",
    "---\n",
    "Sıfırdan array oluşturalım;"
   ]
  },
  {
   "cell_type": "code",
   "execution_count": 41,
   "id": "9c03fb4f",
   "metadata": {},
   "outputs": [],
   "source": [
    "import numpy as np"
   ]
  },
  {
   "cell_type": "code",
   "execution_count": 43,
   "id": "4346b35a",
   "metadata": {},
   "outputs": [],
   "source": [
    "a = np.random.randint(10, size=10)"
   ]
  },
  {
   "cell_type": "code",
   "execution_count": 45,
   "id": "cccd8995",
   "metadata": {},
   "outputs": [
    {
     "data": {
      "text/plain": [
       "array([4, 4, 0, 0, 2, 6, 7, 0, 4, 7])"
      ]
     },
     "execution_count": 45,
     "metadata": {},
     "output_type": "execute_result"
    }
   ],
   "source": [
    "a"
   ]
  },
  {
   "cell_type": "markdown",
   "id": "155ac7e5",
   "metadata": {},
   "source": [
    "> + İndex seçimi"
   ]
  },
  {
   "cell_type": "code",
   "execution_count": 46,
   "id": "4f9911f3",
   "metadata": {},
   "outputs": [
    {
     "data": {
      "text/plain": [
       "0"
      ]
     },
     "execution_count": 46,
     "metadata": {},
     "output_type": "execute_result"
    }
   ],
   "source": [
    "a[2]"
   ]
  },
  {
   "cell_type": "markdown",
   "id": "80f35ee2",
   "metadata": {},
   "source": [
    "> + Dilimleme işlemiyle index seçimi"
   ]
  },
  {
   "cell_type": "code",
   "execution_count": 47,
   "id": "c7eb441d",
   "metadata": {},
   "outputs": [
    {
     "data": {
      "text/plain": [
       "array([4, 4, 0, 0])"
      ]
     },
     "execution_count": 47,
     "metadata": {},
     "output_type": "execute_result"
    }
   ],
   "source": [
    "a[0:4]"
   ]
  },
  {
   "cell_type": "markdown",
   "id": "73fac9c1",
   "metadata": {},
   "source": [
    "> + İstediğimiz index'i değiştirmek "
   ]
  },
  {
   "cell_type": "code",
   "execution_count": 48,
   "id": "be89ce41",
   "metadata": {},
   "outputs": [],
   "source": [
    "a[0] = 999"
   ]
  },
  {
   "cell_type": "code",
   "execution_count": 49,
   "id": "02c5bf60",
   "metadata": {},
   "outputs": [
    {
     "data": {
      "text/plain": [
       "array([999,   4,   0,   0,   2,   6,   7,   0,   4,   7])"
      ]
     },
     "execution_count": 49,
     "metadata": {},
     "output_type": "execute_result"
    }
   ],
   "source": [
    "a"
   ]
  },
  {
   "cell_type": "markdown",
   "id": "044ce94d",
   "metadata": {},
   "source": [
    "> İki boyutlu array için seçim işlemi \n",
    "> + İki Boyutlu bir array tanımlayalım"
   ]
  },
  {
   "cell_type": "code",
   "execution_count": 52,
   "id": "213d8be6",
   "metadata": {},
   "outputs": [],
   "source": [
    "m = np.random.randint(10, size=(3,5))"
   ]
  },
  {
   "cell_type": "code",
   "execution_count": 53,
   "id": "08196b01",
   "metadata": {},
   "outputs": [
    {
     "data": {
      "text/plain": [
       "array([[6, 3, 4, 7, 5],\n",
       "       [8, 5, 8, 0, 1],\n",
       "       [9, 5, 6, 4, 0]])"
      ]
     },
     "execution_count": 53,
     "metadata": {},
     "output_type": "execute_result"
    }
   ],
   "source": [
    "m"
   ]
  },
  {
   "cell_type": "markdown",
   "id": "5d78269a",
   "metadata": {},
   "source": [
    "> + iki argüman girilir\n",
    "    + Birinci : satır biligisini temsil eder\n",
    "    + İkinci : Sütun bilgisi temsil eder"
   ]
  },
  {
   "cell_type": "code",
   "execution_count": 55,
   "id": "493dfea8",
   "metadata": {},
   "outputs": [
    {
     "data": {
      "text/plain": [
       "4"
      ]
     },
     "execution_count": 55,
     "metadata": {},
     "output_type": "execute_result"
    }
   ],
   "source": [
    "m[0, 2]"
   ]
  },
  {
   "cell_type": "markdown",
   "id": "1a268f50",
   "metadata": {},
   "source": [
    "> + İki boyutlu array için eleman değitirme işlemi"
   ]
  },
  {
   "cell_type": "code",
   "execution_count": 58,
   "id": "f5c04d29",
   "metadata": {},
   "outputs": [],
   "source": [
    "m[2, 3] = 999"
   ]
  },
  {
   "cell_type": "code",
   "execution_count": 59,
   "id": "bbdfe7e4",
   "metadata": {},
   "outputs": [
    {
     "data": {
      "text/plain": [
       "array([[  6,   3,   4,   7,   5],\n",
       "       [  8,   5,   8,   0,   1],\n",
       "       [  9,   5,   6, 999,   0]])"
      ]
     },
     "execution_count": 59,
     "metadata": {},
     "output_type": "execute_result"
    }
   ],
   "source": [
    "m"
   ]
  },
  {
   "cell_type": "markdown",
   "id": "bbce78ec",
   "metadata": {},
   "source": [
    "> + NamPy sabit tipli bir array olduğu için flooat değerlerini int gibi alır;"
   ]
  },
  {
   "cell_type": "code",
   "execution_count": 60,
   "id": "3cca26bb",
   "metadata": {},
   "outputs": [],
   "source": [
    "m[2,1] = 2.11"
   ]
  },
  {
   "cell_type": "code",
   "execution_count": 61,
   "id": "dd03489a",
   "metadata": {},
   "outputs": [
    {
     "data": {
      "text/plain": [
       "array([[  6,   3,   4,   7,   5],\n",
       "       [  8,   5,   8,   0,   1],\n",
       "       [  9,   2,   6, 999,   0]])"
      ]
     },
     "execution_count": 61,
     "metadata": {},
     "output_type": "execute_result"
    }
   ],
   "source": [
    "m"
   ]
  },
  {
   "cell_type": "markdown",
   "id": "ee917d46",
   "metadata": {},
   "source": [
    "> + İki boyutlu array'lerde dilimleme işlemi "
   ]
  },
  {
   "cell_type": "markdown",
   "id": "16cef282",
   "metadata": {},
   "source": [
    "+ Tüm satıları seç, 0 sütunu seç"
   ]
  },
  {
   "cell_type": "code",
   "execution_count": 64,
   "id": "7627320a",
   "metadata": {},
   "outputs": [
    {
     "data": {
      "text/plain": [
       "array([6, 8, 9])"
      ]
     },
     "execution_count": 64,
     "metadata": {},
     "output_type": "execute_result"
    }
   ],
   "source": [
    "m[:, 0]"
   ]
  },
  {
   "cell_type": "markdown",
   "id": "b042d7b8",
   "metadata": {},
   "source": [
    "+ Birinci satır, tüm sütun"
   ]
  },
  {
   "cell_type": "code",
   "execution_count": 66,
   "id": "a4f8b9bf",
   "metadata": {},
   "outputs": [
    {
     "data": {
      "text/plain": [
       "array([8, 5, 8, 0, 1])"
      ]
     },
     "execution_count": 66,
     "metadata": {},
     "output_type": "execute_result"
    }
   ],
   "source": [
    "m[1, :]"
   ]
  },
  {
   "cell_type": "markdown",
   "id": "430d3567",
   "metadata": {},
   "source": [
    "+ Hem satırlardan hem de sütunlardan belli bir aralık ."
   ]
  },
  {
   "cell_type": "code",
   "execution_count": 71,
   "id": "f1068a01",
   "metadata": {},
   "outputs": [
    {
     "data": {
      "text/plain": [
       "array([[3, 4],\n",
       "       [5, 8]])"
      ]
     },
     "execution_count": 71,
     "metadata": {},
     "output_type": "execute_result"
    }
   ],
   "source": [
    "m[0:2, 1:3]"
   ]
  },
  {
   "cell_type": "markdown",
   "id": "b6807c7d",
   "metadata": {},
   "source": [
    "##### Fancy Index\n",
    "> Bir array ya da DataFrame içine oluşturduğumuz index bilgilerinin bulunduğu liste konularak array şeklinde oluşturduğumuz listedeki index'lerin seçilmesidir.\n",
    "\n",
    "---\n",
    "> + Belirli bir erek oluştumak için adım sayısını verilen array\n",
    "+ `np.arange(0, 30, 3)` \n",
    "    + Birinci : Alt sınır\n",
    "    + İkinci : Üst sınır\n",
    "    + Üçüncü : Adım sayısı\n",
    "---\n",
    "Numpy kütüphanesini çalışmaya dahil etmek;\n",
    "\n",
    "---\n",
    "Sıfırdan array oluşturalım;"
   ]
  },
  {
   "cell_type": "code",
   "execution_count": 1,
   "id": "08f8eafc",
   "metadata": {},
   "outputs": [],
   "source": [
    "import numpy as np"
   ]
  },
  {
   "cell_type": "markdown",
   "id": "351f60d8",
   "metadata": {},
   "source": [
    "> 0'dan 30'a kadar 3'er 3'er artacak bir array tanımlayalım."
   ]
  },
  {
   "cell_type": "code",
   "execution_count": 2,
   "id": "e5059bb2",
   "metadata": {},
   "outputs": [],
   "source": [
    "v = np.arange(0, 30, 3)"
   ]
  },
  {
   "cell_type": "code",
   "execution_count": 4,
   "id": "2662d663",
   "metadata": {},
   "outputs": [
    {
     "data": {
      "text/plain": [
       "array([ 0,  3,  6,  9, 12, 15, 18, 21, 24, 27])"
      ]
     },
     "execution_count": 4,
     "metadata": {},
     "output_type": "execute_result"
    }
   ],
   "source": [
    "v"
   ]
  },
  {
   "cell_type": "markdown",
   "id": "e9e89329",
   "metadata": {},
   "source": [
    "> 'catch' adında oluşturduğumuz liste index listesidir."
   ]
  },
  {
   "cell_type": "code",
   "execution_count": 5,
   "id": "2e55eca0",
   "metadata": {},
   "outputs": [],
   "source": [
    "catch = [1, 2, 3]"
   ]
  },
  {
   "cell_type": "markdown",
   "id": "3e3f5e58",
   "metadata": {},
   "source": [
    "> Oluşturduğumuz array yapısının içerisine index listesini yerleştirdiğimizde index'lere karşılık gelen değerler ekrana çıktı şeklinde bastırılır."
   ]
  },
  {
   "cell_type": "code",
   "execution_count": 6,
   "id": "d080ae23",
   "metadata": {},
   "outputs": [
    {
     "data": {
      "text/plain": [
       "array([3, 6, 9])"
      ]
     },
     "execution_count": 6,
     "metadata": {},
     "output_type": "execute_result"
    }
   ],
   "source": [
    "v[catch]"
   ]
  },
  {
   "cell_type": "markdown",
   "id": "859b09cd",
   "metadata": {},
   "source": [
    "##### Numpy'da koşullu işlemler (Conditions on Numpy)\n",
    "Numpy kütüphanesini çalışmaya dahil etmek;\n",
    "\n",
    "---\n",
    "Sıfırdan array oluşturalım;"
   ]
  },
  {
   "cell_type": "code",
   "execution_count": 7,
   "id": "9cd070bd",
   "metadata": {},
   "outputs": [],
   "source": [
    "import numpy as np"
   ]
  },
  {
   "cell_type": "code",
   "execution_count": 8,
   "id": "bb2b5088",
   "metadata": {},
   "outputs": [],
   "source": [
    "v = np.array([1, 2, 3, 4, 5])"
   ]
  },
  {
   "cell_type": "code",
   "execution_count": 9,
   "id": "e2449855",
   "metadata": {},
   "outputs": [
    {
     "data": {
      "text/plain": [
       "array([1, 2, 3, 4, 5])"
      ]
     },
     "execution_count": 9,
     "metadata": {},
     "output_type": "execute_result"
    }
   ],
   "source": [
    "v"
   ]
  },
  {
   "cell_type": "markdown",
   "id": "efab8b19",
   "metadata": {},
   "source": [
    "> + NumPy' herhangi bir ifadenin sorgusunu yaptığımızda hızlı bir şekilde işlme gerçekleşir \n",
    "> + `v < 3` v listesinin içerinindeki tüm elemanlarının sorgusu True ve False şeklinde ekrana çıktı veriri"
   ]
  },
  {
   "cell_type": "code",
   "execution_count": 10,
   "id": "f45fd1d2",
   "metadata": {},
   "outputs": [
    {
     "data": {
      "text/plain": [
       "array([ True,  True, False, False, False])"
      ]
     },
     "execution_count": 10,
     "metadata": {},
     "output_type": "execute_result"
    }
   ],
   "source": [
    "v < 3"
   ]
  },
  {
   "cell_type": "markdown",
   "id": "bf60dff4",
   "metadata": {},
   "source": [
    "> + Yukarıdaki ifadeyi array'in içerisinden seç işlemine alırsak True olarak gördüklerini seçecek False olarak gördüklerini seçmeyecektir."
   ]
  },
  {
   "cell_type": "code",
   "execution_count": 11,
   "id": "7d942534",
   "metadata": {},
   "outputs": [
    {
     "data": {
      "text/plain": [
       "array([1, 2])"
      ]
     },
     "execution_count": 11,
     "metadata": {},
     "output_type": "execute_result"
    }
   ],
   "source": [
    "v[v < 3]"
   ]
  },
  {
   "cell_type": "code",
   "execution_count": 12,
   "id": "642f4894",
   "metadata": {},
   "outputs": [
    {
     "data": {
      "text/plain": [
       "array([1, 2, 4, 5])"
      ]
     },
     "execution_count": 12,
     "metadata": {},
     "output_type": "execute_result"
    }
   ],
   "source": [
    "v[v != 3]"
   ]
  },
  {
   "cell_type": "code",
   "execution_count": 15,
   "id": "d92a2aff",
   "metadata": {},
   "outputs": [
    {
     "data": {
      "text/plain": [
       "array([3, 4, 5])"
      ]
     },
     "execution_count": 15,
     "metadata": {},
     "output_type": "execute_result"
    }
   ],
   "source": [
    "v[v >= 3]"
   ]
  },
  {
   "cell_type": "markdown",
   "id": "e46bccf0",
   "metadata": {},
   "source": [
    "##### Matematiksel işlemler (Mathematical Operations)\n",
    "---\n",
    "Numpy kütüphanesini çalışmaya dahil etmek;\n",
    "\n",
    "---\n",
    "Sıfırdan array oluşturalım;"
   ]
  },
  {
   "cell_type": "code",
   "execution_count": 16,
   "id": "e9de27fe",
   "metadata": {},
   "outputs": [],
   "source": [
    "import numpy as np"
   ]
  },
  {
   "cell_type": "code",
   "execution_count": 17,
   "id": "6ef2aed7",
   "metadata": {},
   "outputs": [],
   "source": [
    "v = np.array([1, 2, 3, 4, 5])"
   ]
  },
  {
   "cell_type": "markdown",
   "id": "03da61f9",
   "metadata": {},
   "source": [
    "> Operatörler aracılığyla matematiksel işlemler;"
   ]
  },
  {
   "cell_type": "code",
   "execution_count": 18,
   "id": "94479b28",
   "metadata": {},
   "outputs": [
    {
     "data": {
      "text/plain": [
       "array([0.2, 0.4, 0.6, 0.8, 1. ])"
      ]
     },
     "execution_count": 18,
     "metadata": {},
     "output_type": "execute_result"
    }
   ],
   "source": [
    "v / 5"
   ]
  },
  {
   "cell_type": "code",
   "execution_count": 21,
   "id": "86003e15",
   "metadata": {},
   "outputs": [
    {
     "data": {
      "text/plain": [
       "array([0.5, 1. , 1.5, 2. , 2.5])"
      ]
     },
     "execution_count": 21,
     "metadata": {},
     "output_type": "execute_result"
    }
   ],
   "source": [
    "v * 5 / 10"
   ]
  },
  {
   "cell_type": "code",
   "execution_count": 22,
   "id": "794883d7",
   "metadata": {},
   "outputs": [
    {
     "data": {
      "text/plain": [
       "array([ 1,  4,  9, 16, 25], dtype=int32)"
      ]
     },
     "execution_count": 22,
     "metadata": {},
     "output_type": "execute_result"
    }
   ],
   "source": [
    "v ** 2"
   ]
  },
  {
   "cell_type": "code",
   "execution_count": 23,
   "id": "dd03ba11",
   "metadata": {},
   "outputs": [
    {
     "data": {
      "text/plain": [
       "array([-2, -1,  0,  1,  2])"
      ]
     },
     "execution_count": 23,
     "metadata": {},
     "output_type": "execute_result"
    }
   ],
   "source": [
    "v - 3"
   ]
  },
  {
   "cell_type": "markdown",
   "id": "ae6d339b",
   "metadata": {},
   "source": [
    "> Metodlar yardımıylada matematiksel işlemler;"
   ]
  },
  {
   "cell_type": "markdown",
   "id": "58693f92",
   "metadata": {},
   "source": [
    "> + Çıkarma işlemi için;       "
   ]
  },
  {
   "cell_type": "code",
   "execution_count": 24,
   "id": "90496881",
   "metadata": {},
   "outputs": [
    {
     "data": {
      "text/plain": [
       "array([0, 1, 2, 3, 4])"
      ]
     },
     "execution_count": 24,
     "metadata": {},
     "output_type": "execute_result"
    }
   ],
   "source": [
    "np.subtract(v, 1)"
   ]
  },
  {
   "cell_type": "markdown",
   "id": "47ef45e4",
   "metadata": {},
   "source": [
    "> + Toplama işlemi için;"
   ]
  },
  {
   "cell_type": "code",
   "execution_count": 25,
   "id": "3f9557e1",
   "metadata": {},
   "outputs": [
    {
     "data": {
      "text/plain": [
       "array([2, 3, 4, 5, 6])"
      ]
     },
     "execution_count": 25,
     "metadata": {},
     "output_type": "execute_result"
    }
   ],
   "source": [
    "np.add(v, 1)"
   ]
  },
  {
   "cell_type": "markdown",
   "id": "9e5a4624",
   "metadata": {},
   "source": [
    "> + Ortalama işlemi için;\n"
   ]
  },
  {
   "cell_type": "code",
   "execution_count": 26,
   "id": "62c55ec0",
   "metadata": {},
   "outputs": [
    {
     "data": {
      "text/plain": [
       "3.0"
      ]
     },
     "execution_count": 26,
     "metadata": {},
     "output_type": "execute_result"
    }
   ],
   "source": [
    "np.mean(v)"
   ]
  },
  {
   "cell_type": "markdown",
   "id": "1b2abdb0",
   "metadata": {},
   "source": [
    "> + Toplam alma işlemi için;"
   ]
  },
  {
   "cell_type": "code",
   "execution_count": 29,
   "id": "23770ffc",
   "metadata": {},
   "outputs": [
    {
     "data": {
      "text/plain": [
       "15"
      ]
     },
     "execution_count": 29,
     "metadata": {},
     "output_type": "execute_result"
    }
   ],
   "source": [
    "np.sum(v)"
   ]
  },
  {
   "cell_type": "markdown",
   "id": "57db1b63",
   "metadata": {},
   "source": [
    "> + Minumum değeri için;"
   ]
  },
  {
   "cell_type": "code",
   "execution_count": 30,
   "id": "d506d580",
   "metadata": {},
   "outputs": [
    {
     "data": {
      "text/plain": [
       "1"
      ]
     },
     "execution_count": 30,
     "metadata": {},
     "output_type": "execute_result"
    }
   ],
   "source": [
    "np.min(v)"
   ]
  },
  {
   "cell_type": "markdown",
   "id": "f089db97",
   "metadata": {},
   "source": [
    "> + Mkximum değeri için;"
   ]
  },
  {
   "cell_type": "code",
   "execution_count": 31,
   "id": "96d3424e",
   "metadata": {},
   "outputs": [
    {
     "data": {
      "text/plain": [
       "5"
      ]
     },
     "execution_count": 31,
     "metadata": {},
     "output_type": "execute_result"
    }
   ],
   "source": [
    "np.max(v)"
   ]
  },
  {
   "cell_type": "markdown",
   "id": "dd7ca1f2",
   "metadata": {},
   "source": [
    "> + Varyans işlemi için;"
   ]
  },
  {
   "cell_type": "code",
   "execution_count": 32,
   "id": "4f730505",
   "metadata": {},
   "outputs": [
    {
     "data": {
      "text/plain": [
       "2.0"
      ]
     },
     "execution_count": 32,
     "metadata": {},
     "output_type": "execute_result"
    }
   ],
   "source": [
    "np.var(v)"
   ]
  },
  {
   "cell_type": "markdown",
   "id": "e104886a",
   "metadata": {},
   "source": [
    "##### NumPy ile iki bilinmeyenli denklem çözümü\n",
    "+ 5*x0 + x1 = 12\n",
    "+ x0 + 3*x1 = 10\n",
    "> Katsayılarını belirli bir yapıda gönderirsek işlemi yapmış oluruz.\n",
    "> + a array'indeki ilk elemanlar : birinci değişkenin katsayıları \n",
    "ikinci elemanlar : ikinci değişkenin katsayıları.\n",
    "> + b array'indeki değişkenler ise denklemin sonuçlarıdır."
   ]
  },
  {
   "cell_type": "code",
   "execution_count": 33,
   "id": "29740fef",
   "metadata": {},
   "outputs": [],
   "source": [
    "a = np.array([[5, 1], [1, 3]])"
   ]
  },
  {
   "cell_type": "code",
   "execution_count": 34,
   "id": "02ff0232",
   "metadata": {},
   "outputs": [],
   "source": [
    "b = np.array([12, 10])"
   ]
  },
  {
   "cell_type": "code",
   "execution_count": 35,
   "id": "f280effb",
   "metadata": {},
   "outputs": [
    {
     "data": {
      "text/plain": [
       "array([1.85714286, 2.71428571])"
      ]
     },
     "execution_count": 35,
     "metadata": {},
     "output_type": "execute_result"
    }
   ],
   "source": [
    "np.linalg.solve(a,b)"
   ]
  }
 ],
 "metadata": {
  "kernelspec": {
   "display_name": "Python 3 (ipykernel)",
   "language": "python",
   "name": "python3"
  },
  "language_info": {
   "codemirror_mode": {
    "name": "ipython",
    "version": 3
   },
   "file_extension": ".py",
   "mimetype": "text/x-python",
   "name": "python",
   "nbconvert_exporter": "python",
   "pygments_lexer": "ipython3",
   "version": "3.9.12"
  }
 },
 "nbformat": 4,
 "nbformat_minor": 5
}
