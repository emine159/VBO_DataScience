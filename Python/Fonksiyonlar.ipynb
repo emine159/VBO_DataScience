{
 "cells": [
  {
   "cell_type": "markdown",
   "id": "efe8e02e",
   "metadata": {},
   "source": [
    "# Fonksiyonlar, Koşullar, Döngüler, Comprehensıons\n",
    "\n",
    "* Fonksiyonlar \n",
    "* Koşullar\n",
    "* Döngüler\n",
    "* Comprehensıons"
   ]
  },
  {
   "cell_type": "markdown",
   "id": "dfe5ba39",
   "metadata": {},
   "source": [
    "## Fonksiyonlar\n",
    "> Belirli görevlerini yerine getirmek için yazılan kod parçaları.\n",
    ">> + Kullanacak olduğumuz fonksiyonların bir dökümantasyonu vardır,\n",
    ">> + Bu dökümanlara ulaşmak için '?print' soru işaretinden sonra bilgi almak istediğimiz fonksiyonu girmemiz yeterli.\n",
    ">> + help(print) şeklinde de kullanmak istediğimiz dökümantasyon bilgisini alabiliriz.\n",
    "##### Fonksiyon okuryazarlığı\n",
    "> sep argümanı: Ekrana basılacak öğeler arasına hangi karakterin yerleştirileceğini gösterir."
   ]
  },
  {
   "cell_type": "code",
   "execution_count": 1,
   "id": "8e0a5518",
   "metadata": {},
   "outputs": [
    {
     "name": "stdout",
     "output_type": "stream",
     "text": [
      "a\n"
     ]
    }
   ],
   "source": [
    "print(\"a\")"
   ]
  },
  {
   "cell_type": "code",
   "execution_count": 3,
   "id": "d25aa248",
   "metadata": {},
   "outputs": [
    {
     "name": "stdout",
     "output_type": "stream",
     "text": [
      "a b\n"
     ]
    }
   ],
   "source": [
    "print(\"a\",\"b\")     # sep argümanın ön tanımlı değeri boşluktur"
   ]
  },
  {
   "cell_type": "code",
   "execution_count": 6,
   "id": "550a23eb",
   "metadata": {},
   "outputs": [
    {
     "name": "stdout",
     "output_type": "stream",
     "text": [
      "a__b\n"
     ]
    }
   ],
   "source": [
    "print(\"a\", \"b\", sep=\"__\")"
   ]
  },
  {
   "cell_type": "markdown",
   "id": "2387dbfb",
   "metadata": {},
   "source": [
    "##### Fonksiyon tanımlama"
   ]
  },
  {
   "cell_type": "code",
   "execution_count": 8,
   "id": "57c993c7",
   "metadata": {},
   "outputs": [
    {
     "name": "stdout",
     "output_type": "stream",
     "text": [
      "10\n"
     ]
    }
   ],
   "source": [
    "def calculate(x):\n",
    "    print(x * 2)\n",
    "    \n",
    "calculate(5)   "
   ]
  },
  {
   "cell_type": "markdown",
   "id": "bbd6664c",
   "metadata": {},
   "source": [
    "##### İki argümanlı / parametleri bir fonksiyon tanımlayalım."
   ]
  },
  {
   "cell_type": "code",
   "execution_count": 10,
   "id": "e1a9fe5e",
   "metadata": {},
   "outputs": [
    {
     "name": "stdout",
     "output_type": "stream",
     "text": [
      "11\n"
     ]
    }
   ],
   "source": [
    "def summer(arg1, arg2):\n",
    "    print(arg1 + arg2)\n",
    "    \n",
    "summer(5, 6)    "
   ]
  },
  {
   "cell_type": "code",
   "execution_count": 11,
   "id": "35a61774",
   "metadata": {},
   "outputs": [
    {
     "name": "stdout",
     "output_type": "stream",
     "text": [
      "11\n"
     ]
    }
   ],
   "source": [
    "def summer(arg1, arg2):\n",
    "    print(arg1 + arg2)\n",
    "    \n",
    "summer(arg1 = 5, arg2 = 6)     # argümanları tanımlayarak da değer girilebilir."
   ]
  },
  {
   "cell_type": "markdown",
   "id": "45660e91",
   "metadata": {},
   "source": [
    "## Fonksiyonların Gövde Bölümü\n",
    "> Fonksiyonların detaylı şekilde nasıl tanımlayacağımızı inceleyeceğiz\n",
    ">>`def function_name(arguments):\n",
    "    statements(function body)`\n",
    "    > + Parametre ve argüman girmeden fonksiyon yazılabilir\n",
    "    > + Argüman girilerek de fonksiyon yazılabilir"
   ]
  },
  {
   "cell_type": "code",
   "execution_count": 14,
   "id": "f728a4f3",
   "metadata": {},
   "outputs": [
    {
     "name": "stdout",
     "output_type": "stream",
     "text": [
      "merhaba\n",
      "hi\n",
      "hello\n"
     ]
    }
   ],
   "source": [
    "def say_hi():\n",
    "    print(\"merhaba\")\n",
    "    print(\"hi\")\n",
    "    print(\"hello\")\n",
    "    \n",
    "say_hi()    "
   ]
  },
  {
   "cell_type": "code",
   "execution_count": 17,
   "id": "ad439a8e",
   "metadata": {},
   "outputs": [
    {
     "name": "stdout",
     "output_type": "stream",
     "text": [
      "merhaba\n",
      "hi\n",
      "hello\n"
     ]
    }
   ],
   "source": [
    "def say_hi(string):\n",
    "    print(string)\n",
    "    print(\"hi\")\n",
    "    print(\"hello\")\n",
    "    \n",
    "say_hi(\"merhaba\")  "
   ]
  },
  {
   "cell_type": "markdown",
   "id": "c4fd19fa",
   "metadata": {},
   "source": [
    "###### Örnek Fonksiyon\n",
    "> Gövde bölümünde; \n",
    "> + Peş peşe işlemler yapılabilir \n",
    "> + Birden fazla prin işlemi yapılabilir"
   ]
  },
  {
   "cell_type": "code",
   "execution_count": 19,
   "id": "96bf6ae9",
   "metadata": {},
   "outputs": [
    {
     "name": "stdout",
     "output_type": "stream",
     "text": [
      "55\n"
     ]
    }
   ],
   "source": [
    "def multiplication(a, b):\n",
    "    c = a * b\n",
    "    print(c)\n",
    "    \n",
    "multiplication(5, 11)    "
   ]
  },
  {
   "cell_type": "markdown",
   "id": "ed0d32a3",
   "metadata": {},
   "source": [
    "> + Girilen değerleri bir liste içinde saklayacak fonksiyon."
   ]
  },
  {
   "cell_type": "code",
   "execution_count": 25,
   "id": "47d7b0a6",
   "metadata": {},
   "outputs": [
    {
     "name": "stdout",
     "output_type": "stream",
     "text": [
      "[20]\n",
      "[20, 8]\n"
     ]
    }
   ],
   "source": [
    "list_store = []\n",
    "\n",
    "def add_element(a, b):\n",
    "    c = a* b\n",
    "    list_store.append(c)\n",
    "    print(list_store)\n",
    "\n",
    "add_element(2, 10)\n",
    "add_element(1, 8)"
   ]
  },
  {
   "cell_type": "code",
   "execution_count": 26,
   "id": "b66aaa73",
   "metadata": {},
   "outputs": [
    {
     "data": {
      "text/plain": [
       "[20, 8]"
      ]
     },
     "execution_count": 26,
     "metadata": {},
     "output_type": "execute_result"
    }
   ],
   "source": [
    "list_store"
   ]
  },
  {
   "cell_type": "markdown",
   "id": "8ec02bc2",
   "metadata": {},
   "source": [
    "###### Ne Zaman Fonksiyon Yazma iİhtiyacımız Olur ? \n",
    "> Birbirini tekrar eden durumlar olduğunda fonksiyon yazma ihtiyacı oluşur.\n"
   ]
  },
  {
   "cell_type": "code",
   "execution_count": 36,
   "id": "42de83a7",
   "metadata": {},
   "outputs": [
    {
     "name": "stdout",
     "output_type": "stream",
     "text": [
      "5.238095238095238\n"
     ]
    }
   ],
   "source": [
    "def calculate(varm, moisture, charge):\n",
    "    print((varm + moisture)/charge)\n",
    "    \n",
    "calculate(98, 12, 21)    "
   ]
  },
  {
   "cell_type": "markdown",
   "id": "082f4db0",
   "metadata": {},
   "source": [
    "## Return \n",
    "> Fonksiyon çıktılarını girdi olarak kullanmak.\n"
   ]
  },
  {
   "cell_type": "code",
   "execution_count": 33,
   "id": "94f5b196",
   "metadata": {},
   "outputs": [
    {
     "data": {
      "text/plain": [
       "52.38095238095238"
      ]
     },
     "execution_count": 33,
     "metadata": {},
     "output_type": "execute_result"
    }
   ],
   "source": [
    "output "
   ]
  },
  {
   "cell_type": "code",
   "execution_count": 34,
   "id": "89280bc0",
   "metadata": {},
   "outputs": [],
   "source": [
    "def calculate(varm, moisture, charge):\n",
    "    return (varm + moisture)/charge\n",
    "    \n",
    "a = calculate(98, 12, 21)*10    "
   ]
  },
  {
   "cell_type": "code",
   "execution_count": 35,
   "id": "d5520909",
   "metadata": {},
   "outputs": [
    {
     "data": {
      "text/plain": [
       "52.38095238095238"
      ]
     },
     "execution_count": 35,
     "metadata": {},
     "output_type": "execute_result"
    }
   ],
   "source": [
    "a    # çıktıyı bir değere atamak"
   ]
  },
  {
   "cell_type": "markdown",
   "id": "399fc960",
   "metadata": {},
   "source": [
    "###### Örnek Fonksiyon\n",
    "> Gövde bölümünde; \n",
    "> + Verilen argümanlarla işlem yapma,\n",
    "> + Return ile çıktı alma\n",
    "> + Alınan çıktıyı sayısı kadar istenilen değerlere atama işlemi."
   ]
  },
  {
   "cell_type": "code",
   "execution_count": 39,
   "id": "90353ef2",
   "metadata": {},
   "outputs": [],
   "source": [
    "def calculate(varm, moisture, charge):\n",
    "    varm = varm * 2\n",
    "    moisture = moisture * 2\n",
    "    charge = charge * 2\n",
    "    output = (varm + moisture)/charge\n",
    "    \n",
    "    return varm, moisture, charge, output \n",
    "    \n",
    "varm, moisture, charge, output =  calculate(98, 12, 21)"
   ]
  },
  {
   "cell_type": "code",
   "execution_count": 41,
   "id": "874d82fe",
   "metadata": {},
   "outputs": [
    {
     "data": {
      "text/plain": [
       "196"
      ]
     },
     "execution_count": 41,
     "metadata": {},
     "output_type": "execute_result"
    }
   ],
   "source": [
    "varm"
   ]
  },
  {
   "cell_type": "code",
   "execution_count": 42,
   "id": "dd86b712",
   "metadata": {},
   "outputs": [
    {
     "data": {
      "text/plain": [
       "24"
      ]
     },
     "execution_count": 42,
     "metadata": {},
     "output_type": "execute_result"
    }
   ],
   "source": [
    "moisture"
   ]
  },
  {
   "cell_type": "code",
   "execution_count": 43,
   "id": "f042e397",
   "metadata": {},
   "outputs": [
    {
     "data": {
      "text/plain": [
       "42"
      ]
     },
     "execution_count": 43,
     "metadata": {},
     "output_type": "execute_result"
    }
   ],
   "source": [
    "charge"
   ]
  },
  {
   "cell_type": "code",
   "execution_count": 44,
   "id": "2ba17f68",
   "metadata": {},
   "outputs": [
    {
     "data": {
      "text/plain": [
       "5.238095238095238"
      ]
     },
     "execution_count": 44,
     "metadata": {},
     "output_type": "execute_result"
    }
   ],
   "source": [
    "output"
   ]
  },
  {
   "cell_type": "markdown",
   "id": "61c19a58",
   "metadata": {},
   "source": [
    "## Fonksiyon İçerisinden Fonksiyon Çağırmak\n",
    "> Daha önceden tanımlamış olduğumuz fonksiyonları yeni bir fonksiyon tanımlarken çağırma işlemi.\n",
    "###### Örnek Fonksiyon\n",
    "> + Çıktının float değilde int olasını istiyoruz.\n",
    "> + Başka bir foksiyonun farklı argümanlarla işlem yapması \n",
    "> + Yeni bir fonksiyon tanımlayıp ilk iki fonksiyonu kullanacağız.\n",
    "    + Ana fonksiyonu tanımlarken diğer fonksiyonlarda biçimlendirmek istediğin argümanları da ana fonksiyona tanımlamak zorundayız.\n"
   ]
  },
  {
   "cell_type": "code",
   "execution_count": 52,
   "id": "8f1e8f7a",
   "metadata": {},
   "outputs": [
    {
     "data": {
      "text/plain": [
       "50"
      ]
     },
     "execution_count": 52,
     "metadata": {},
     "output_type": "execute_result"
    }
   ],
   "source": [
    "def calculate(varm, moisture, charge):\n",
    "    return int((varm + moisture)/charge)\n",
    "    \n",
    "calculate(98, 12, 21) * 10  "
   ]
  },
  {
   "cell_type": "code",
   "execution_count": 53,
   "id": "dc505880",
   "metadata": {},
   "outputs": [
    {
     "data": {
      "text/plain": [
       "7064.400000000001"
      ]
     },
     "execution_count": 53,
     "metadata": {},
     "output_type": "execute_result"
    }
   ],
   "source": [
    "def standardization(a, p):\n",
    "    return a * 10 / 100 * p * p\n",
    "\n",
    "standardization(21, 58)"
   ]
  },
  {
   "cell_type": "code",
   "execution_count": 54,
   "id": "2372b804",
   "metadata": {},
   "outputs": [
    {
     "name": "stdout",
     "output_type": "stream",
     "text": [
      "0.0\n"
     ]
    }
   ],
   "source": [
    "def all_calculation(varm, moisture, charge, p):\n",
    "    a = calculate(varm, moisture, charge)\n",
    "    b = standardization(a, p)\n",
    "    print(b * 10)\n",
    "\n",
    "all_calculation(16, 3, 51, 11)    "
   ]
  }
 ],
 "metadata": {
  "kernelspec": {
   "display_name": "Python 3 (ipykernel)",
   "language": "python",
   "name": "python3"
  },
  "language_info": {
   "codemirror_mode": {
    "name": "ipython",
    "version": 3
   },
   "file_extension": ".py",
   "mimetype": "text/x-python",
   "name": "python",
   "nbconvert_exporter": "python",
   "pygments_lexer": "ipython3",
   "version": "3.9.12"
  }
 },
 "nbformat": 4,
 "nbformat_minor": 5
}
