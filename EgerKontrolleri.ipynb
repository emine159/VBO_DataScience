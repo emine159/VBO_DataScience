{
 "cells": [
  {
   "cell_type": "code",
   "execution_count": 2,
   "id": "0d989074",
   "metadata": {},
   "outputs": [
    {
     "data": {
      "text/plain": [
       "True"
      ]
     },
     "execution_count": 2,
     "metadata": {},
     "output_type": "execute_result"
    }
   ],
   "source": [
    "3 >1"
   ]
  },
  {
   "cell_type": "code",
   "execution_count": 4,
   "id": "a1c5b13b",
   "metadata": {},
   "outputs": [
    {
     "name": "stdout",
     "output_type": "stream",
     "text": [
      "Emine Bulut\n",
      "kod bluğunun dışına çıktık\n"
     ]
    }
   ],
   "source": [
    "if 3 > 1:\n",
    "    ##paythonda boşluklar çok önemlidir boşluklara göre hareket eder.\n",
    "    ##kod bloğunun içindeki değer sağlanırsa kod çalıştırılır.\n",
    "    print(\"Emine Bulut\")\n",
    "    \n",
    "print(\"kod bluğunun dışına çıktık\") \n",
    "##fonksiyonun içinde olmadığı için her halukarda çalışacaktır."
   ]
  },
  {
   "cell_type": "code",
   "execution_count": 5,
   "id": "2586f56b",
   "metadata": {},
   "outputs": [],
   "source": [
    "x=5"
   ]
  },
  {
   "cell_type": "code",
   "execution_count": 6,
   "id": "91219869",
   "metadata": {},
   "outputs": [],
   "source": [
    "y=4"
   ]
  },
  {
   "cell_type": "code",
   "execution_count": 11,
   "id": "3b3d6e41",
   "metadata": {},
   "outputs": [
    {
     "name": "stdout",
     "output_type": "stream",
     "text": [
      "x,y den büyüktür\n",
      "9\n"
     ]
    }
   ],
   "source": [
    "if x > y:\n",
    "    print(\"x,y den büyüktür\")\n",
    "    a=5\n",
    "    b=4\n",
    "    print(a+b)\n",
    "    ##kod bloğunun içinde olduğu için çalıştırılacak.\n",
    "elif y > x:\n",
    "    print(\"y x den daha büyük\")\n",
    "elif y==x:\n",
    "    print(\"y ve x birbirine eşittir\")\n",
    "else:\n",
    "    print(\"hiç bir koşul uygun değil\")\n"
   ]
  },
  {
   "cell_type": "code",
   "execution_count": 15,
   "id": "a1bc66c4",
   "metadata": {},
   "outputs": [
    {
     "name": "stdout",
     "output_type": "stream",
     "text": [
      "Super Kahraman Seçini:  sdşcdcd\n"
     ]
    }
   ],
   "source": [
    "benimKahramanim = input(\"Super Kahraman Seçini:  \")"
   ]
  },
  {
   "cell_type": "code",
   "execution_count": 16,
   "id": "cf48ad77",
   "metadata": {},
   "outputs": [
    {
     "name": "stdout",
     "output_type": "stream",
     "text": [
      "bu kim gerçekten bilmiyoruz\n"
     ]
    }
   ],
   "source": [
    "if benimKahramanim == \"batman\":\n",
    "    print(\"batman i seçtini tebrik ebrikler\")\n",
    "elif benimKahramanim == \"supermen\":\n",
    "    print(\"keşke batmanı seçseydini\")\n",
    "elif benimKahramanim == \"ironman\":\n",
    "    print(\"tebrikler irnomanı seçtiniz\")\n",
    "else:\n",
    "    print(\"bu kim gerçekten bilmiyoruz\")"
   ]
  },
  {
   "cell_type": "code",
   "execution_count": 23,
   "id": "d9d5e442",
   "metadata": {},
   "outputs": [],
   "source": [
    "a = 10 \n",
    "b = 200\n",
    "c = 30"
   ]
  },
  {
   "cell_type": "code",
   "execution_count": 24,
   "id": "481de64a",
   "metadata": {},
   "outputs": [
    {
     "name": "stdout",
     "output_type": "stream",
     "text": [
      "bu koşullar tutmadı\n"
     ]
    }
   ],
   "source": [
    "if a > b and b > c:\n",
    "    print(\"a b den büyük VE b c den büyük\")\n",
    "if a < b and b < c:\n",
    "    print(\"b a dan büyük VE c b den büyük\")\n",
    "else:\n",
    "    print(\"bu koşullar tutmadı\")\n",
    "    "
   ]
  },
  {
   "cell_type": "code",
   "execution_count": null,
   "id": "63fc1c11",
   "metadata": {},
   "outputs": [],
   "source": []
  }
 ],
 "metadata": {
  "kernelspec": {
   "display_name": "Python 3 (ipykernel)",
   "language": "python",
   "name": "python3"
  },
  "language_info": {
   "codemirror_mode": {
    "name": "ipython",
    "version": 3
   },
   "file_extension": ".py",
   "mimetype": "text/x-python",
   "name": "python",
   "nbconvert_exporter": "python",
   "pygments_lexer": "ipython3",
   "version": "3.9.12"
  }
 },
 "nbformat": 4,
 "nbformat_minor": 5
}
